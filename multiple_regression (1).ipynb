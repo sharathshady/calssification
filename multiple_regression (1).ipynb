{
 "cells": [
  {
   "cell_type": "markdown",
   "metadata": {},
   "source": [
    "# Importing the libraries "
   ]
  },
  {
   "cell_type": "code",
   "execution_count": 43,
   "metadata": {
    "collapsed": true
   },
   "outputs": [],
   "source": [
    "import numpy as np\n",
    "import pandas as pd\n",
    "import matplotlib.pyplot as plt\n",
    "%matplotlib inline"
   ]
  },
  {
   "cell_type": "markdown",
   "metadata": {},
   "source": [
    "Numpy for Data Calculation\n",
    "\n",
    "Pandas for Data importing and describing and manipulation\n",
    "\n",
    "Matplotlib for the Data Visualization"
   ]
  },
  {
   "cell_type": "markdown",
   "metadata": {},
   "source": [
    "# Importing the data using pandas"
   ]
  },
  {
   "cell_type": "code",
   "execution_count": 2,
   "metadata": {
    "collapsed": true
   },
   "outputs": [],
   "source": [
    "data =pd.read_csv(\"CustomerData.csv\")"
   ]
  },
  {
   "cell_type": "code",
   "execution_count": 3,
   "metadata": {},
   "outputs": [
    {
     "data": {
      "text/html": [
       "<div>\n",
       "<style>\n",
       "    .dataframe thead tr:only-child th {\n",
       "        text-align: right;\n",
       "    }\n",
       "\n",
       "    .dataframe thead th {\n",
       "        text-align: left;\n",
       "    }\n",
       "\n",
       "    .dataframe tbody tr th {\n",
       "        vertical-align: top;\n",
       "    }\n",
       "</style>\n",
       "<table border=\"1\" class=\"dataframe\">\n",
       "  <thead>\n",
       "    <tr style=\"text-align: right;\">\n",
       "      <th></th>\n",
       "      <th>CustomerID</th>\n",
       "      <th>City</th>\n",
       "      <th>NoOfChildren</th>\n",
       "      <th>MinAgeOfChild</th>\n",
       "      <th>MaxAgeOfChild</th>\n",
       "      <th>Tenure</th>\n",
       "      <th>FrquncyOfPurchase</th>\n",
       "      <th>NoOfUnitsPurchased</th>\n",
       "      <th>FrequencyOFPlay</th>\n",
       "      <th>NoOfGamesPlayed</th>\n",
       "      <th>NoOfGamesBought</th>\n",
       "      <th>FavoriteChannelOfTransaction</th>\n",
       "      <th>FavoriteGame</th>\n",
       "      <th>TotalRevenueGenerated</th>\n",
       "    </tr>\n",
       "  </thead>\n",
       "  <tbody>\n",
       "    <tr>\n",
       "      <th>0</th>\n",
       "      <td>1001</td>\n",
       "      <td>1</td>\n",
       "      <td>2</td>\n",
       "      <td>3</td>\n",
       "      <td>8</td>\n",
       "      <td>210.0</td>\n",
       "      <td>11</td>\n",
       "      <td>11</td>\n",
       "      <td>2344.0</td>\n",
       "      <td>108</td>\n",
       "      <td>10</td>\n",
       "      <td>Uniform</td>\n",
       "      <td>Uniform</td>\n",
       "      <td>107.51</td>\n",
       "    </tr>\n",
       "    <tr>\n",
       "      <th>1</th>\n",
       "      <td>1002</td>\n",
       "      <td>1</td>\n",
       "      <td>2</td>\n",
       "      <td>3</td>\n",
       "      <td>6</td>\n",
       "      <td>442.0</td>\n",
       "      <td>20</td>\n",
       "      <td>20</td>\n",
       "      <td>245.0</td>\n",
       "      <td>22</td>\n",
       "      <td>7</td>\n",
       "      <td>Favorite</td>\n",
       "      <td>Uniform</td>\n",
       "      <td>382.40</td>\n",
       "    </tr>\n",
       "    <tr>\n",
       "      <th>2</th>\n",
       "      <td>1003</td>\n",
       "      <td>1</td>\n",
       "      <td>4</td>\n",
       "      <td>3</td>\n",
       "      <td>5</td>\n",
       "      <td>424.0</td>\n",
       "      <td>18</td>\n",
       "      <td>18</td>\n",
       "      <td>1059.0</td>\n",
       "      <td>130</td>\n",
       "      <td>18</td>\n",
       "      <td>Favorite</td>\n",
       "      <td>Uniform</td>\n",
       "      <td>135.01</td>\n",
       "    </tr>\n",
       "    <tr>\n",
       "      <th>3</th>\n",
       "      <td>1004</td>\n",
       "      <td>1</td>\n",
       "      <td>1</td>\n",
       "      <td>6</td>\n",
       "      <td>6</td>\n",
       "      <td>261.0</td>\n",
       "      <td>11</td>\n",
       "      <td>9</td>\n",
       "      <td>365.0</td>\n",
       "      <td>34</td>\n",
       "      <td>11</td>\n",
       "      <td>Favorite</td>\n",
       "      <td>Uniform</td>\n",
       "      <td>125.00</td>\n",
       "    </tr>\n",
       "    <tr>\n",
       "      <th>4</th>\n",
       "      <td>1005</td>\n",
       "      <td>1</td>\n",
       "      <td>3</td>\n",
       "      <td>6</td>\n",
       "      <td>9</td>\n",
       "      <td>422.0</td>\n",
       "      <td>44</td>\n",
       "      <td>31</td>\n",
       "      <td>1066.0</td>\n",
       "      <td>102</td>\n",
       "      <td>44</td>\n",
       "      <td>Uniform</td>\n",
       "      <td>Uniform</td>\n",
       "      <td>335.05</td>\n",
       "    </tr>\n",
       "  </tbody>\n",
       "</table>\n",
       "</div>"
      ],
      "text/plain": [
       "   CustomerID  City  NoOfChildren  MinAgeOfChild  MaxAgeOfChild  Tenure  \\\n",
       "0        1001     1             2              3              8   210.0   \n",
       "1        1002     1             2              3              6   442.0   \n",
       "2        1003     1             4              3              5   424.0   \n",
       "3        1004     1             1              6              6   261.0   \n",
       "4        1005     1             3              6              9   422.0   \n",
       "\n",
       "   FrquncyOfPurchase  NoOfUnitsPurchased  FrequencyOFPlay  NoOfGamesPlayed  \\\n",
       "0                 11                  11           2344.0              108   \n",
       "1                 20                  20            245.0               22   \n",
       "2                 18                  18           1059.0              130   \n",
       "3                 11                   9            365.0               34   \n",
       "4                 44                  31           1066.0              102   \n",
       "\n",
       "   NoOfGamesBought FavoriteChannelOfTransaction FavoriteGame  \\\n",
       "0               10                      Uniform      Uniform   \n",
       "1                7                     Favorite      Uniform   \n",
       "2               18                     Favorite      Uniform   \n",
       "3               11                     Favorite      Uniform   \n",
       "4               44                      Uniform      Uniform   \n",
       "\n",
       "   TotalRevenueGenerated  \n",
       "0                 107.51  \n",
       "1                 382.40  \n",
       "2                 135.01  \n",
       "3                 125.00  \n",
       "4                 335.05  "
      ]
     },
     "execution_count": 3,
     "metadata": {},
     "output_type": "execute_result"
    }
   ],
   "source": [
    "data.head()"
   ]
  },
  {
   "cell_type": "code",
   "execution_count": 4,
   "metadata": {
    "scrolled": true
   },
   "outputs": [
    {
     "data": {
      "text/html": [
       "<div>\n",
       "<style>\n",
       "    .dataframe thead tr:only-child th {\n",
       "        text-align: right;\n",
       "    }\n",
       "\n",
       "    .dataframe thead th {\n",
       "        text-align: left;\n",
       "    }\n",
       "\n",
       "    .dataframe tbody tr th {\n",
       "        vertical-align: top;\n",
       "    }\n",
       "</style>\n",
       "<table border=\"1\" class=\"dataframe\">\n",
       "  <thead>\n",
       "    <tr style=\"text-align: right;\">\n",
       "      <th></th>\n",
       "      <th>City</th>\n",
       "      <th>NoOfChildren</th>\n",
       "      <th>MinAgeOfChild</th>\n",
       "      <th>MaxAgeOfChild</th>\n",
       "      <th>Tenure</th>\n",
       "      <th>FrquncyOfPurchase</th>\n",
       "      <th>NoOfUnitsPurchased</th>\n",
       "      <th>FrequencyOFPlay</th>\n",
       "      <th>NoOfGamesPlayed</th>\n",
       "      <th>NoOfGamesBought</th>\n",
       "      <th>FavoriteChannelOfTransaction</th>\n",
       "      <th>FavoriteGame</th>\n",
       "      <th>TotalRevenueGenerated</th>\n",
       "    </tr>\n",
       "  </thead>\n",
       "  <tbody>\n",
       "    <tr>\n",
       "      <th>0</th>\n",
       "      <td>1</td>\n",
       "      <td>2</td>\n",
       "      <td>3</td>\n",
       "      <td>8</td>\n",
       "      <td>210.0</td>\n",
       "      <td>11</td>\n",
       "      <td>11</td>\n",
       "      <td>2344.0</td>\n",
       "      <td>108</td>\n",
       "      <td>10</td>\n",
       "      <td>Uniform</td>\n",
       "      <td>Uniform</td>\n",
       "      <td>107.51</td>\n",
       "    </tr>\n",
       "    <tr>\n",
       "      <th>1</th>\n",
       "      <td>1</td>\n",
       "      <td>2</td>\n",
       "      <td>3</td>\n",
       "      <td>6</td>\n",
       "      <td>442.0</td>\n",
       "      <td>20</td>\n",
       "      <td>20</td>\n",
       "      <td>245.0</td>\n",
       "      <td>22</td>\n",
       "      <td>7</td>\n",
       "      <td>Favorite</td>\n",
       "      <td>Uniform</td>\n",
       "      <td>382.40</td>\n",
       "    </tr>\n",
       "    <tr>\n",
       "      <th>2</th>\n",
       "      <td>1</td>\n",
       "      <td>4</td>\n",
       "      <td>3</td>\n",
       "      <td>5</td>\n",
       "      <td>424.0</td>\n",
       "      <td>18</td>\n",
       "      <td>18</td>\n",
       "      <td>1059.0</td>\n",
       "      <td>130</td>\n",
       "      <td>18</td>\n",
       "      <td>Favorite</td>\n",
       "      <td>Uniform</td>\n",
       "      <td>135.01</td>\n",
       "    </tr>\n",
       "    <tr>\n",
       "      <th>3</th>\n",
       "      <td>1</td>\n",
       "      <td>1</td>\n",
       "      <td>6</td>\n",
       "      <td>6</td>\n",
       "      <td>261.0</td>\n",
       "      <td>11</td>\n",
       "      <td>9</td>\n",
       "      <td>365.0</td>\n",
       "      <td>34</td>\n",
       "      <td>11</td>\n",
       "      <td>Favorite</td>\n",
       "      <td>Uniform</td>\n",
       "      <td>125.00</td>\n",
       "    </tr>\n",
       "    <tr>\n",
       "      <th>4</th>\n",
       "      <td>1</td>\n",
       "      <td>3</td>\n",
       "      <td>6</td>\n",
       "      <td>9</td>\n",
       "      <td>422.0</td>\n",
       "      <td>44</td>\n",
       "      <td>31</td>\n",
       "      <td>1066.0</td>\n",
       "      <td>102</td>\n",
       "      <td>44</td>\n",
       "      <td>Uniform</td>\n",
       "      <td>Uniform</td>\n",
       "      <td>335.05</td>\n",
       "    </tr>\n",
       "  </tbody>\n",
       "</table>\n",
       "</div>"
      ],
      "text/plain": [
       "   City  NoOfChildren  MinAgeOfChild  MaxAgeOfChild  Tenure  \\\n",
       "0     1             2              3              8   210.0   \n",
       "1     1             2              3              6   442.0   \n",
       "2     1             4              3              5   424.0   \n",
       "3     1             1              6              6   261.0   \n",
       "4     1             3              6              9   422.0   \n",
       "\n",
       "   FrquncyOfPurchase  NoOfUnitsPurchased  FrequencyOFPlay  NoOfGamesPlayed  \\\n",
       "0                 11                  11           2344.0              108   \n",
       "1                 20                  20            245.0               22   \n",
       "2                 18                  18           1059.0              130   \n",
       "3                 11                   9            365.0               34   \n",
       "4                 44                  31           1066.0              102   \n",
       "\n",
       "   NoOfGamesBought FavoriteChannelOfTransaction FavoriteGame  \\\n",
       "0               10                      Uniform      Uniform   \n",
       "1                7                     Favorite      Uniform   \n",
       "2               18                     Favorite      Uniform   \n",
       "3               11                     Favorite      Uniform   \n",
       "4               44                      Uniform      Uniform   \n",
       "\n",
       "   TotalRevenueGenerated  \n",
       "0                 107.51  \n",
       "1                 382.40  \n",
       "2                 135.01  \n",
       "3                 125.00  \n",
       "4                 335.05  "
      ]
     },
     "execution_count": 4,
     "metadata": {},
     "output_type": "execute_result"
    }
   ],
   "source": [
    "data =data.drop(\"CustomerID\", axis=1)\n",
    "data.head()"
   ]
  },
  {
   "cell_type": "markdown",
   "metadata": {},
   "source": [
    "# checking the missing values"
   ]
  },
  {
   "cell_type": "code",
   "execution_count": 5,
   "metadata": {
    "scrolled": true
   },
   "outputs": [
    {
     "data": {
      "text/plain": [
       "City                            False\n",
       "NoOfChildren                    False\n",
       "MinAgeOfChild                   False\n",
       "MaxAgeOfChild                   False\n",
       "Tenure                           True\n",
       "FrquncyOfPurchase               False\n",
       "NoOfUnitsPurchased              False\n",
       "FrequencyOFPlay                  True\n",
       "NoOfGamesPlayed                 False\n",
       "NoOfGamesBought                 False\n",
       "FavoriteChannelOfTransaction    False\n",
       "FavoriteGame                    False\n",
       "TotalRevenueGenerated           False\n",
       "dtype: bool"
      ]
     },
     "execution_count": 5,
     "metadata": {},
     "output_type": "execute_result"
    }
   ],
   "source": [
    "data.isnull().any()"
   ]
  },
  {
   "cell_type": "code",
   "execution_count": 6,
   "metadata": {},
   "outputs": [
    {
     "data": {
      "text/plain": [
       "City                            0\n",
       "NoOfChildren                    0\n",
       "MinAgeOfChild                   0\n",
       "MaxAgeOfChild                   0\n",
       "Tenure                          8\n",
       "FrquncyOfPurchase               0\n",
       "NoOfUnitsPurchased              0\n",
       "FrequencyOFPlay                 5\n",
       "NoOfGamesPlayed                 0\n",
       "NoOfGamesBought                 0\n",
       "FavoriteChannelOfTransaction    0\n",
       "FavoriteGame                    0\n",
       "TotalRevenueGenerated           0\n",
       "dtype: int64"
      ]
     },
     "execution_count": 6,
     "metadata": {},
     "output_type": "execute_result"
    }
   ],
   "source": [
    "data.isnull().sum()"
   ]
  },
  {
   "cell_type": "markdown",
   "metadata": {},
   "source": [
    "# checking the shape of data"
   ]
  },
  {
   "cell_type": "code",
   "execution_count": 7,
   "metadata": {},
   "outputs": [
    {
     "data": {
      "text/plain": [
       "(3209, 13)"
      ]
     },
     "execution_count": 7,
     "metadata": {},
     "output_type": "execute_result"
    }
   ],
   "source": [
    "data.shape"
   ]
  },
  {
   "cell_type": "markdown",
   "metadata": {},
   "source": [
    "# Describtion of data "
   ]
  },
  {
   "cell_type": "code",
   "execution_count": 8,
   "metadata": {},
   "outputs": [
    {
     "data": {
      "text/plain": [
       "<bound method NDFrame.describe of       City  NoOfChildren  MinAgeOfChild  MaxAgeOfChild  Tenure  \\\n",
       "0        1             2              3              8   210.0   \n",
       "1        1             2              3              6   442.0   \n",
       "2        1             4              3              5   424.0   \n",
       "3        1             1              6              6   261.0   \n",
       "4        1             3              6              9   422.0   \n",
       "5        1             2              3              4   378.0   \n",
       "6        1             3              8             12   369.0   \n",
       "7        1             2              6              8   404.0   \n",
       "8        1             4              6              9   420.0   \n",
       "9        2             3              5              6   333.0   \n",
       "10       1             1              5              5   323.0   \n",
       "11       1             3              4              9   167.0   \n",
       "12       1             1              4              4   381.0   \n",
       "13       1             4              5              7   399.0   \n",
       "14       1             3              4              7   444.0   \n",
       "15       1             2              3              5   371.0   \n",
       "16       1             1              6              6   355.0   \n",
       "17       1             1              7              7   346.0   \n",
       "18       1             2              6              7   211.0   \n",
       "19       1             2              4              7   278.0   \n",
       "20       1             3              4             10   448.0   \n",
       "21       1             2              3              6   447.0   \n",
       "22       1             1              8              8   471.0   \n",
       "23       1             1              4              4   189.0   \n",
       "24       1             2              5              7   427.0   \n",
       "25       1             2              5              8   351.0   \n",
       "26       1             2              6              6   453.0   \n",
       "27       1             4              3              7   418.0   \n",
       "28       1             3              3             13   424.0   \n",
       "29       1             5              2              7   444.0   \n",
       "...    ...           ...            ...            ...     ...   \n",
       "3179     1             2              3              5   351.0   \n",
       "3180     1             3              2             20   346.0   \n",
       "3181     1             1              8              8   350.0   \n",
       "3182     1             2              2              5   329.0   \n",
       "3183     1             2              6              6   358.0   \n",
       "3184     1             5              3              9   397.0   \n",
       "3185     1             5              1             13   456.0   \n",
       "3186     1             2              3              5   367.0   \n",
       "3187     1             1              5              5   425.0   \n",
       "3188     1             2              4              6   417.0   \n",
       "3189     1             4              4              7   176.0   \n",
       "3190     1             1              5              5   395.0   \n",
       "3191     1             1              6              6   220.0   \n",
       "3192     1             1              5              5   388.0   \n",
       "3193     1             5              5              7   442.0   \n",
       "3194     1             2              4              6   360.0   \n",
       "3195     1             2              4              7   226.0   \n",
       "3196     1             1              6              6   273.0   \n",
       "3197     1             1              6              6   135.0   \n",
       "3198     1             1              5              5   347.0   \n",
       "3199     1             1              6              6   352.0   \n",
       "3200     1             2              7              8   313.0   \n",
       "3201     1             3              2              6   424.0   \n",
       "3202     1             2              5              7   424.0   \n",
       "3203     1             1              4              4   431.0   \n",
       "3204     1             2              4              6   365.0   \n",
       "3205     1             2              2              5   348.0   \n",
       "3206     1             2              5              7   341.0   \n",
       "3207     1             2              6              7   368.0   \n",
       "3208     1             3              2              6   389.0   \n",
       "\n",
       "      FrquncyOfPurchase  NoOfUnitsPurchased  FrequencyOFPlay  NoOfGamesPlayed  \\\n",
       "0                    11                  11           2344.0              108   \n",
       "1                    20                  20            245.0               22   \n",
       "2                    18                  18           1059.0              130   \n",
       "3                    11                   9            365.0               34   \n",
       "4                    44                  31           1066.0              102   \n",
       "5                    16                  16            228.0               12   \n",
       "6                    25                  15             75.0                2   \n",
       "7                    13                  12           1488.0              118   \n",
       "8                    20                  16           2743.0              163   \n",
       "9                    15                  15           1967.0               56   \n",
       "10                    9                   9            218.0                1   \n",
       "11                   17                  17           1961.0              124   \n",
       "12                   15                  15            267.0               51   \n",
       "13                   36                  24           6411.0              355   \n",
       "14                   14                  14           2804.0              133   \n",
       "15                    6                   6           1746.0               61   \n",
       "16                   11                  11           1367.0               49   \n",
       "17                   18                  16           1029.0              106   \n",
       "18                    7                   7            428.0               26   \n",
       "19                   12                  12           1080.0               49   \n",
       "20                    6                   6           1016.0               56   \n",
       "21                   14                  14           1617.0               58   \n",
       "22                   18                  18           2131.0               67   \n",
       "23                   22                  18            267.0               33   \n",
       "24                   16                  16           3781.0              288   \n",
       "25                    5                   5            182.0               26   \n",
       "26                   12                  10           4036.0              146   \n",
       "27                   51                  41           2947.0              241   \n",
       "28                   17                  17           1606.0              132   \n",
       "29                   26                  26           7766.0              583   \n",
       "...                 ...                 ...              ...              ...   \n",
       "3179                 30                  20           1535.0              158   \n",
       "3180                 17                  13           1206.0              146   \n",
       "3181                 15                  15           1303.0               51   \n",
       "3182                 13                  13           1404.0               98   \n",
       "3183                 32                  32            528.0               52   \n",
       "3184                 26                  20            698.0               90   \n",
       "3185                 19                  18           1033.0              122   \n",
       "3186                 11                  10           1644.0              102   \n",
       "3187                 30                  23           1839.0               92   \n",
       "3188                 11                  11          12263.0              558   \n",
       "3189                 10                  14           3315.0              115   \n",
       "3190                  9                   9             80.0               11   \n",
       "3191                  7                   7             37.0                5   \n",
       "3192                 13                  13            896.0               34   \n",
       "3193                 19                  13           1607.0               31   \n",
       "3194                 17                  17            511.0               94   \n",
       "3195                 15                  15            803.0               64   \n",
       "3196                 12                  12            881.0               62   \n",
       "3197                  8                   8              7.0                2   \n",
       "3198                 12                   9            678.0              123   \n",
       "3199                 27                  24           2042.0              194   \n",
       "3200                 15                  15            952.0              113   \n",
       "3201                 20                  12           2038.0              177   \n",
       "3202                 32                  29           5933.0              382   \n",
       "3203                 26                  26           1166.0               72   \n",
       "3204                 16                  16            827.0               78   \n",
       "3205                 20                  20           2933.0              294   \n",
       "3206                 16                  13           1250.0              126   \n",
       "3207                 18                  14           1364.0              122   \n",
       "3208                 25                  17            475.0              111   \n",
       "\n",
       "      NoOfGamesBought FavoriteChannelOfTransaction FavoriteGame  \\\n",
       "0                  10                      Uniform      Uniform   \n",
       "1                   7                     Favorite      Uniform   \n",
       "2                  18                     Favorite      Uniform   \n",
       "3                  11                     Favorite      Uniform   \n",
       "4                  44                      Uniform      Uniform   \n",
       "5                  16                     Favorite     Favorite   \n",
       "6                  25                     Favorite     Favorite   \n",
       "7                  13                     Favorite      Uniform   \n",
       "8                  16                      Uniform      Uniform   \n",
       "9                  15                     Favorite      Uniform   \n",
       "10                  3                     Favorite     Favorite   \n",
       "11                 17                      Uniform      Uniform   \n",
       "12                 15                     Favorite      Uniform   \n",
       "13                 36                     Favorite      Uniform   \n",
       "14                 14                      Uniform      Uniform   \n",
       "15                  6                     Favorite      Uniform   \n",
       "16                 11                     Favorite      Uniform   \n",
       "17                 14                      Uniform      Uniform   \n",
       "18                  0                     Favorite      Uniform   \n",
       "19                  8                      Uniform      Uniform   \n",
       "20                  6                     Favorite      Uniform   \n",
       "21                 11                     Favorite      Uniform   \n",
       "22                 18                     Favorite      Uniform   \n",
       "23                 12                     Favorite      Uniform   \n",
       "24                 16                     Favorite      Uniform   \n",
       "25                  3                     Favorite      Uniform   \n",
       "26                 12                      Uniform      Uniform   \n",
       "27                 51                      Uniform      Uniform   \n",
       "28                 17                     Favorite      Uniform   \n",
       "29                 26                     Favorite      Uniform   \n",
       "...               ...                          ...          ...   \n",
       "3179               30                      Uniform      Uniform   \n",
       "3180               17                      Uniform      Uniform   \n",
       "3181               15                     Favorite      Uniform   \n",
       "3182               13                     Favorite      Uniform   \n",
       "3183               14                     Favorite      Uniform   \n",
       "3184               26                      Uniform      Uniform   \n",
       "3185               13                     Favorite      Uniform   \n",
       "3186                8                      Uniform      Uniform   \n",
       "3187               27                     Favorite      Uniform   \n",
       "3188               11                     Favorite      Uniform   \n",
       "3189                5                     Favorite      Uniform   \n",
       "3190                0                     Favorite      Uniform   \n",
       "3191                7                     Favorite      Uniform   \n",
       "3192               13                     Favorite      Uniform   \n",
       "3193               19                     Favorite      Uniform   \n",
       "3194               17                     Favorite      Uniform   \n",
       "3195               15                     Favorite      Uniform   \n",
       "3196               12                     Favorite      Uniform   \n",
       "3197                1                     Favorite     Favorite   \n",
       "3198                6                      Uniform      Uniform   \n",
       "3199               23                     Favorite      Uniform   \n",
       "3200               10                     Favorite      Uniform   \n",
       "3201               20                      Uniform      Uniform   \n",
       "3202               29                     Favorite      Uniform   \n",
       "3203               26                     Favorite      Uniform   \n",
       "3204               16                     Favorite      Uniform   \n",
       "3205               13                     Favorite      Uniform   \n",
       "3206               16                      Uniform      Uniform   \n",
       "3207               18                     Favorite      Uniform   \n",
       "3208               25                     Favorite      Uniform   \n",
       "\n",
       "      TotalRevenueGenerated  \n",
       "0                    107.51  \n",
       "1                    382.40  \n",
       "2                    135.01  \n",
       "3                    125.00  \n",
       "4                    335.05  \n",
       "5                    150.00  \n",
       "6                    127.50  \n",
       "7                    122.50  \n",
       "8                    164.96  \n",
       "9                    112.62  \n",
       "10                   211.92  \n",
       "11                   125.04  \n",
       "12                   167.50  \n",
       "13                   202.50  \n",
       "14                   105.50  \n",
       "15                   117.50  \n",
       "16                   175.00  \n",
       "17                   181.71  \n",
       "18                   144.93  \n",
       "19                   182.36  \n",
       "20                   100.00  \n",
       "21                   199.93  \n",
       "22                   172.50  \n",
       "23                   348.09  \n",
       "24                   185.02  \n",
       "25                   139.99  \n",
       "26                   135.00  \n",
       "27                   388.01  \n",
       "28                   152.51  \n",
       "29                   205.01  \n",
       "...                     ...  \n",
       "3179                 151.75  \n",
       "3180                 125.00  \n",
       "3181                 222.50  \n",
       "3182                 240.00  \n",
       "3183                 461.67  \n",
       "3184                 147.52  \n",
       "3185                 300.00  \n",
       "3186                 118.66  \n",
       "3187                 231.21  \n",
       "3188                 105.01  \n",
       "3189                 188.91  \n",
       "3190                 205.97  \n",
       "3191                 107.50  \n",
       "3192                 100.00  \n",
       "3193                 110.00  \n",
       "3194                 115.00  \n",
       "3195                 117.51  \n",
       "3196                 172.50  \n",
       "3197                 222.96  \n",
       "3198                 115.93  \n",
       "3199                 249.96  \n",
       "3200                 175.51  \n",
       "3201                 117.26  \n",
       "3202                 261.29  \n",
       "3203                 205.00  \n",
       "3204                 132.50  \n",
       "3205                 223.23  \n",
       "3206                 120.00  \n",
       "3207                 161.50  \n",
       "3208                 137.50  \n",
       "\n",
       "[3209 rows x 13 columns]>"
      ]
     },
     "execution_count": 8,
     "metadata": {},
     "output_type": "execute_result"
    }
   ],
   "source": [
    "data.describe"
   ]
  },
  {
   "cell_type": "markdown",
   "metadata": {},
   "source": [
    "# checking the data types of variable"
   ]
  },
  {
   "cell_type": "code",
   "execution_count": 9,
   "metadata": {},
   "outputs": [
    {
     "data": {
      "text/plain": [
       "City                              int64\n",
       "NoOfChildren                      int64\n",
       "MinAgeOfChild                     int64\n",
       "MaxAgeOfChild                     int64\n",
       "Tenure                          float64\n",
       "FrquncyOfPurchase                 int64\n",
       "NoOfUnitsPurchased                int64\n",
       "FrequencyOFPlay                 float64\n",
       "NoOfGamesPlayed                   int64\n",
       "NoOfGamesBought                   int64\n",
       "FavoriteChannelOfTransaction     object\n",
       "FavoriteGame                     object\n",
       "TotalRevenueGenerated           float64\n",
       "dtype: object"
      ]
     },
     "execution_count": 9,
     "metadata": {},
     "output_type": "execute_result"
    }
   ],
   "source": [
    "data.dtypes"
   ]
  },
  {
   "cell_type": "markdown",
   "metadata": {},
   "source": [
    "# imputing the missing values"
   ]
  },
  {
   "cell_type": "code",
   "execution_count": 10,
   "metadata": {
    "collapsed": true
   },
   "outputs": [],
   "source": [
    "from sklearn.preprocessing import Imputer\n",
    "imp =Imputer()\n"
   ]
  },
  {
   "cell_type": "code",
   "execution_count": 11,
   "metadata": {
    "collapsed": true
   },
   "outputs": [],
   "source": [
    "#data=imp.fit(data[:, 5:6])\n",
    "data.iloc[:,7:8]=imp.fit_transform(data.iloc[:,7:8])\n",
    "data.iloc[:,4:5]=imp.fit_transform(data.iloc[:,4:5])\n",
    "#data[:,5:6]=imp.transform(data[:,  5:6])"
   ]
  },
  {
   "cell_type": "markdown",
   "metadata": {},
   "source": [
    "# checking the missing values after imputation"
   ]
  },
  {
   "cell_type": "code",
   "execution_count": 12,
   "metadata": {},
   "outputs": [
    {
     "data": {
      "text/plain": [
       "City                            False\n",
       "NoOfChildren                    False\n",
       "MinAgeOfChild                   False\n",
       "MaxAgeOfChild                   False\n",
       "Tenure                          False\n",
       "FrquncyOfPurchase               False\n",
       "NoOfUnitsPurchased              False\n",
       "FrequencyOFPlay                 False\n",
       "NoOfGamesPlayed                 False\n",
       "NoOfGamesBought                 False\n",
       "FavoriteChannelOfTransaction    False\n",
       "FavoriteGame                    False\n",
       "TotalRevenueGenerated           False\n",
       "dtype: bool"
      ]
     },
     "execution_count": 12,
     "metadata": {},
     "output_type": "execute_result"
    }
   ],
   "source": [
    "data.isnull().any()"
   ]
  },
  {
   "cell_type": "markdown",
   "metadata": {},
   "source": [
    "# Label Encoding "
   ]
  },
  {
   "cell_type": "code",
   "execution_count": 13,
   "metadata": {
    "collapsed": true
   },
   "outputs": [],
   "source": [
    "from sklearn.preprocessing import LabelEncoder\n",
    "le=LabelEncoder()"
   ]
  },
  {
   "cell_type": "code",
   "execution_count": 14,
   "metadata": {},
   "outputs": [
    {
     "name": "stdout",
     "output_type": "stream",
     "text": [
      "0    2843\n",
      "1     366\n",
      "Name: City, dtype: int64\n",
      "0    2639\n",
      "1     570\n",
      "Name: FavoriteChannelOfTransaction, dtype: int64\n",
      "2    3055\n",
      "0     125\n",
      "1      29\n",
      "Name: FavoriteGame, dtype: int64\n"
     ]
    },
    {
     "data": {
      "text/plain": [
       "City                              int64\n",
       "NoOfChildren                      int64\n",
       "MinAgeOfChild                     int64\n",
       "MaxAgeOfChild                     int64\n",
       "Tenure                          float64\n",
       "FrquncyOfPurchase                 int64\n",
       "NoOfUnitsPurchased                int64\n",
       "FrequencyOFPlay                 float64\n",
       "NoOfGamesPlayed                   int64\n",
       "NoOfGamesBought                   int64\n",
       "FavoriteChannelOfTransaction      int64\n",
       "FavoriteGame                      int64\n",
       "TotalRevenueGenerated           float64\n",
       "dtype: object"
      ]
     },
     "execution_count": 14,
     "metadata": {},
     "output_type": "execute_result"
    }
   ],
   "source": [
    "from sklearn.preprocessing import LabelEncoder\n",
    "le = LabelEncoder()\n",
    "\n",
    "location = data.columns\n",
    "l = [0,10,11]\n",
    "for i in l:\n",
    "    data.iloc[:,i]= le.fit_transform(data.iloc[:,i])\n",
    "    print(data[location[i]].value_counts())\n",
    "    \n",
    "data.dtypes"
   ]
  },
  {
   "cell_type": "markdown",
   "metadata": {},
   "source": [
    "# Checking correlation plot"
   ]
  },
  {
   "cell_type": "code",
   "execution_count": 15,
   "metadata": {},
   "outputs": [
    {
     "data": {
      "image/png": "[encoded data removed]",
      "text/plain": [
       "<matplotlib.figure.Figure at 0x2c0fefbb5f8>"
      ]
     },
     "metadata": {},
     "output_type": "display_data"
    }
   ],
   "source": [
    "correlations = data.corr()\n",
    "# plot correlation matrix\n",
    "fig = plt.figure(figsize =(13,13))\n",
    "names=['City', 'NoOfChildren', 'MinAgeOfChild', 'MaxAgeOfChild',\n",
    "       'Tenure', 'FrquncyOfPurchase', 'NoOfUnitsPurchased', 'FrequencyOFPlay',\n",
    "       'NoOfGamesPlayed', 'NoOfGamesBought', 'FavoriteChannelOfTransaction',\n",
    "       'FavoriteGame', 'TotalRevenueGenerated']\n",
    "ax = fig.add_subplot(111)\n",
    "cax = ax.matshow(correlations, vmin=-1, vmax=1)\n",
    "fig.colorbar(cax)\n",
    "ticks = np.arange(0,14,1)\n",
    "ax.set_xticks(ticks)\n",
    "ax.set_yticks(ticks)\n",
    "ax.set_xticklabels(names)\n",
    "ax.set_yticklabels(names)\n",
    "plt.show()"
   ]
  },
  {
   "cell_type": "code",
   "execution_count": 16,
   "metadata": {},
   "outputs": [
    {
     "data": {
      "text/plain": [
       "Index(['City', 'NoOfChildren', 'MinAgeOfChild', 'MaxAgeOfChild', 'Tenure',\n",
       "       'FrquncyOfPurchase', 'NoOfUnitsPurchased', 'FrequencyOFPlay',\n",
       "       'NoOfGamesPlayed', 'NoOfGamesBought', 'FavoriteChannelOfTransaction',\n",
       "       'FavoriteGame', 'TotalRevenueGenerated'],\n",
       "      dtype='object')"
      ]
     },
     "execution_count": 16,
     "metadata": {},
     "output_type": "execute_result"
    }
   ],
   "source": [
    "data.columns"
   ]
  },
  {
   "cell_type": "markdown",
   "metadata": {},
   "source": [
    "# changing the dtype into category for variable needed to do  dummies"
   ]
  },
  {
   "cell_type": "code",
   "execution_count": 17,
   "metadata": {},
   "outputs": [
    {
     "name": "stderr",
     "output_type": "stream",
     "text": [
      "C:\\Users\\Raghuram\\Anaconda3\\lib\\site-packages\\ipykernel_launcher.py:6: SettingWithCopyWarning: \n",
      "A value is trying to be set on a copy of a slice from a DataFrame.\n",
      "Try using .loc[row_indexer,col_indexer] = value instead\n",
      "\n",
      "See the caveats in the documentation: http://pandas.pydata.org/pandas-docs/stable/indexing.html#indexing-view-versus-copy\n",
      "  \n"
     ]
    },
    {
     "data": {
      "text/plain": [
       "FavoriteGame    category\n",
       "dtype: object"
      ]
     },
     "execution_count": 17,
     "metadata": {},
     "output_type": "execute_result"
    }
   ],
   "source": [
    "data_cat=data.iloc[:,[11]]\n",
    "\n",
    "list1 = data_cat.columns\n",
    "for i in range(0,1):\n",
    "    \n",
    "    data_cat[list1[i]]= (data_cat[list1[i]].astype('category'))   #changing the variable into category (uni8) \n",
    "                                                                    #inorder to do dummie\n",
    "data_cat.dtypes"
   ]
  },
  {
   "cell_type": "markdown",
   "metadata": {},
   "source": [
    "# Creating Dummies"
   ]
  },
  {
   "cell_type": "code",
   "execution_count": 18,
   "metadata": {},
   "outputs": [
    {
     "name": "stdout",
     "output_type": "stream",
     "text": [
      "      FavoriteGame_0  FavoriteGame_1  FavoriteGame_2\n",
      "0                  0               0               1\n",
      "1                  0               0               1\n",
      "2                  0               0               1\n",
      "3                  0               0               1\n",
      "4                  0               0               1\n",
      "5                  1               0               0\n",
      "6                  1               0               0\n",
      "7                  0               0               1\n",
      "8                  0               0               1\n",
      "9                  0               0               1\n",
      "10                 1               0               0\n",
      "11                 0               0               1\n",
      "12                 0               0               1\n",
      "13                 0               0               1\n",
      "14                 0               0               1\n",
      "15                 0               0               1\n",
      "16                 0               0               1\n",
      "17                 0               0               1\n",
      "18                 0               0               1\n",
      "19                 0               0               1\n",
      "20                 0               0               1\n",
      "21                 0               0               1\n",
      "22                 0               0               1\n",
      "23                 0               0               1\n",
      "24                 0               0               1\n",
      "25                 0               0               1\n",
      "26                 0               0               1\n",
      "27                 0               0               1\n",
      "28                 0               0               1\n",
      "29                 0               0               1\n",
      "...              ...             ...             ...\n",
      "3179               0               0               1\n",
      "3180               0               0               1\n",
      "3181               0               0               1\n",
      "3182               0               0               1\n",
      "3183               0               0               1\n",
      "3184               0               0               1\n",
      "3185               0               0               1\n",
      "3186               0               0               1\n",
      "3187               0               0               1\n",
      "3188               0               0               1\n",
      "3189               0               0               1\n",
      "3190               0               0               1\n",
      "3191               0               0               1\n",
      "3192               0               0               1\n",
      "3193               0               0               1\n",
      "3194               0               0               1\n",
      "3195               0               0               1\n",
      "3196               0               0               1\n",
      "3197               1               0               0\n",
      "3198               0               0               1\n",
      "3199               0               0               1\n",
      "3200               0               0               1\n",
      "3201               0               0               1\n",
      "3202               0               0               1\n",
      "3203               0               0               1\n",
      "3204               0               0               1\n",
      "3205               0               0               1\n",
      "3206               0               0               1\n",
      "3207               0               0               1\n",
      "3208               0               0               1\n",
      "\n",
      "[3209 rows x 3 columns]\n"
     ]
    }
   ],
   "source": [
    "data_naa=pd.get_dummies(data_cat)\n",
    "print(data_naa)"
   ]
  },
  {
   "cell_type": "code",
   "execution_count": 19,
   "metadata": {},
   "outputs": [
    {
     "name": "stdout",
     "output_type": "stream",
     "text": [
      "      City  NoOfChildren  MinAgeOfChild  MaxAgeOfChild  Tenure  \\\n",
      "0        0             2              3              8   210.0   \n",
      "1        0             2              3              6   442.0   \n",
      "2        0             4              3              5   424.0   \n",
      "3        0             1              6              6   261.0   \n",
      "4        0             3              6              9   422.0   \n",
      "5        0             2              3              4   378.0   \n",
      "6        0             3              8             12   369.0   \n",
      "7        0             2              6              8   404.0   \n",
      "8        0             4              6              9   420.0   \n",
      "9        1             3              5              6   333.0   \n",
      "10       0             1              5              5   323.0   \n",
      "11       0             3              4              9   167.0   \n",
      "12       0             1              4              4   381.0   \n",
      "13       0             4              5              7   399.0   \n",
      "14       0             3              4              7   444.0   \n",
      "15       0             2              3              5   371.0   \n",
      "16       0             1              6              6   355.0   \n",
      "17       0             1              7              7   346.0   \n",
      "18       0             2              6              7   211.0   \n",
      "19       0             2              4              7   278.0   \n",
      "20       0             3              4             10   448.0   \n",
      "21       0             2              3              6   447.0   \n",
      "22       0             1              8              8   471.0   \n",
      "23       0             1              4              4   189.0   \n",
      "24       0             2              5              7   427.0   \n",
      "25       0             2              5              8   351.0   \n",
      "26       0             2              6              6   453.0   \n",
      "27       0             4              3              7   418.0   \n",
      "28       0             3              3             13   424.0   \n",
      "29       0             5              2              7   444.0   \n",
      "...    ...           ...            ...            ...     ...   \n",
      "3179     0             2              3              5   351.0   \n",
      "3180     0             3              2             20   346.0   \n",
      "3181     0             1              8              8   350.0   \n",
      "3182     0             2              2              5   329.0   \n",
      "3183     0             2              6              6   358.0   \n",
      "3184     0             5              3              9   397.0   \n",
      "3185     0             5              1             13   456.0   \n",
      "3186     0             2              3              5   367.0   \n",
      "3187     0             1              5              5   425.0   \n",
      "3188     0             2              4              6   417.0   \n",
      "3189     0             4              4              7   176.0   \n",
      "3190     0             1              5              5   395.0   \n",
      "3191     0             1              6              6   220.0   \n",
      "3192     0             1              5              5   388.0   \n",
      "3193     0             5              5              7   442.0   \n",
      "3194     0             2              4              6   360.0   \n",
      "3195     0             2              4              7   226.0   \n",
      "3196     0             1              6              6   273.0   \n",
      "3197     0             1              6              6   135.0   \n",
      "3198     0             1              5              5   347.0   \n",
      "3199     0             1              6              6   352.0   \n",
      "3200     0             2              7              8   313.0   \n",
      "3201     0             3              2              6   424.0   \n",
      "3202     0             2              5              7   424.0   \n",
      "3203     0             1              4              4   431.0   \n",
      "3204     0             2              4              6   365.0   \n",
      "3205     0             2              2              5   348.0   \n",
      "3206     0             2              5              7   341.0   \n",
      "3207     0             2              6              7   368.0   \n",
      "3208     0             3              2              6   389.0   \n",
      "\n",
      "      FrquncyOfPurchase  NoOfUnitsPurchased  FrequencyOFPlay  NoOfGamesPlayed  \\\n",
      "0                    11                  11           2344.0              108   \n",
      "1                    20                  20            245.0               22   \n",
      "2                    18                  18           1059.0              130   \n",
      "3                    11                   9            365.0               34   \n",
      "4                    44                  31           1066.0              102   \n",
      "5                    16                  16            228.0               12   \n",
      "6                    25                  15             75.0                2   \n",
      "7                    13                  12           1488.0              118   \n",
      "8                    20                  16           2743.0              163   \n",
      "9                    15                  15           1967.0               56   \n",
      "10                    9                   9            218.0                1   \n",
      "11                   17                  17           1961.0              124   \n",
      "12                   15                  15            267.0               51   \n",
      "13                   36                  24           6411.0              355   \n",
      "14                   14                  14           2804.0              133   \n",
      "15                    6                   6           1746.0               61   \n",
      "16                   11                  11           1367.0               49   \n",
      "17                   18                  16           1029.0              106   \n",
      "18                    7                   7            428.0               26   \n",
      "19                   12                  12           1080.0               49   \n",
      "20                    6                   6           1016.0               56   \n",
      "21                   14                  14           1617.0               58   \n",
      "22                   18                  18           2131.0               67   \n",
      "23                   22                  18            267.0               33   \n",
      "24                   16                  16           3781.0              288   \n",
      "25                    5                   5            182.0               26   \n",
      "26                   12                  10           4036.0              146   \n",
      "27                   51                  41           2947.0              241   \n",
      "28                   17                  17           1606.0              132   \n",
      "29                   26                  26           7766.0              583   \n",
      "...                 ...                 ...              ...              ...   \n",
      "3179                 30                  20           1535.0              158   \n",
      "3180                 17                  13           1206.0              146   \n",
      "3181                 15                  15           1303.0               51   \n",
      "3182                 13                  13           1404.0               98   \n",
      "3183                 32                  32            528.0               52   \n",
      "3184                 26                  20            698.0               90   \n",
      "3185                 19                  18           1033.0              122   \n",
      "3186                 11                  10           1644.0              102   \n",
      "3187                 30                  23           1839.0               92   \n",
      "3188                 11                  11          12263.0              558   \n",
      "3189                 10                  14           3315.0              115   \n",
      "3190                  9                   9             80.0               11   \n",
      "3191                  7                   7             37.0                5   \n",
      "3192                 13                  13            896.0               34   \n",
      "3193                 19                  13           1607.0               31   \n",
      "3194                 17                  17            511.0               94   \n",
      "3195                 15                  15            803.0               64   \n",
      "3196                 12                  12            881.0               62   \n",
      "3197                  8                   8              7.0                2   \n",
      "3198                 12                   9            678.0              123   \n",
      "3199                 27                  24           2042.0              194   \n",
      "3200                 15                  15            952.0              113   \n",
      "3201                 20                  12           2038.0              177   \n",
      "3202                 32                  29           5933.0              382   \n",
      "3203                 26                  26           1166.0               72   \n",
      "3204                 16                  16            827.0               78   \n",
      "3205                 20                  20           2933.0              294   \n",
      "3206                 16                  13           1250.0              126   \n",
      "3207                 18                  14           1364.0              122   \n",
      "3208                 25                  17            475.0              111   \n",
      "\n",
      "      NoOfGamesBought  FavoriteChannelOfTransaction  FavoriteGame  \\\n",
      "0                  10                             1             2   \n",
      "1                   7                             0             2   \n",
      "2                  18                             0             2   \n",
      "3                  11                             0             2   \n",
      "4                  44                             1             2   \n",
      "5                  16                             0             0   \n",
      "6                  25                             0             0   \n",
      "7                  13                             0             2   \n",
      "8                  16                             1             2   \n",
      "9                  15                             0             2   \n",
      "10                  3                             0             0   \n",
      "11                 17                             1             2   \n",
      "12                 15                             0             2   \n",
      "13                 36                             0             2   \n",
      "14                 14                             1             2   \n",
      "15                  6                             0             2   \n",
      "16                 11                             0             2   \n",
      "17                 14                             1             2   \n",
      "18                  0                             0             2   \n",
      "19                  8                             1             2   \n",
      "20                  6                             0             2   \n",
      "21                 11                             0             2   \n",
      "22                 18                             0             2   \n",
      "23                 12                             0             2   \n",
      "24                 16                             0             2   \n",
      "25                  3                             0             2   \n",
      "26                 12                             1             2   \n",
      "27                 51                             1             2   \n",
      "28                 17                             0             2   \n",
      "29                 26                             0             2   \n",
      "...               ...                           ...           ...   \n",
      "3179               30                             1             2   \n",
      "3180               17                             1             2   \n",
      "3181               15                             0             2   \n",
      "3182               13                             0             2   \n",
      "3183               14                             0             2   \n",
      "3184               26                             1             2   \n",
      "3185               13                             0             2   \n",
      "3186                8                             1             2   \n",
      "3187               27                             0             2   \n",
      "3188               11                             0             2   \n",
      "3189                5                             0             2   \n",
      "3190                0                             0             2   \n",
      "3191                7                             0             2   \n",
      "3192               13                             0             2   \n",
      "3193               19                             0             2   \n",
      "3194               17                             0             2   \n",
      "3195               15                             0             2   \n",
      "3196               12                             0             2   \n",
      "3197                1                             0             0   \n",
      "3198                6                             1             2   \n",
      "3199               23                             0             2   \n",
      "3200               10                             0             2   \n",
      "3201               20                             1             2   \n",
      "3202               29                             0             2   \n",
      "3203               26                             0             2   \n",
      "3204               16                             0             2   \n",
      "3205               13                             0             2   \n",
      "3206               16                             1             2   \n",
      "3207               18                             0             2   \n",
      "3208               25                             0             2   \n",
      "\n",
      "      TotalRevenueGenerated  FavoriteGame_0  FavoriteGame_1  FavoriteGame_2  \n",
      "0                    107.51               0               0               1  \n",
      "1                    382.40               0               0               1  \n",
      "2                    135.01               0               0               1  \n",
      "3                    125.00               0               0               1  \n",
      "4                    335.05               0               0               1  \n",
      "5                    150.00               1               0               0  \n",
      "6                    127.50               1               0               0  \n",
      "7                    122.50               0               0               1  \n",
      "8                    164.96               0               0               1  \n",
      "9                    112.62               0               0               1  \n",
      "10                   211.92               1               0               0  \n",
      "11                   125.04               0               0               1  \n",
      "12                   167.50               0               0               1  \n",
      "13                   202.50               0               0               1  \n",
      "14                   105.50               0               0               1  \n",
      "15                   117.50               0               0               1  \n",
      "16                   175.00               0               0               1  \n",
      "17                   181.71               0               0               1  \n",
      "18                   144.93               0               0               1  \n",
      "19                   182.36               0               0               1  \n",
      "20                   100.00               0               0               1  \n",
      "21                   199.93               0               0               1  \n",
      "22                   172.50               0               0               1  \n",
      "23                   348.09               0               0               1  \n",
      "24                   185.02               0               0               1  \n",
      "25                   139.99               0               0               1  \n",
      "26                   135.00               0               0               1  \n",
      "27                   388.01               0               0               1  \n",
      "28                   152.51               0               0               1  \n",
      "29                   205.01               0               0               1  \n",
      "...                     ...             ...             ...             ...  \n",
      "3179                 151.75               0               0               1  \n",
      "3180                 125.00               0               0               1  \n",
      "3181                 222.50               0               0               1  \n",
      "3182                 240.00               0               0               1  \n",
      "3183                 461.67               0               0               1  \n",
      "3184                 147.52               0               0               1  \n",
      "3185                 300.00               0               0               1  \n",
      "3186                 118.66               0               0               1  \n",
      "3187                 231.21               0               0               1  \n",
      "3188                 105.01               0               0               1  \n",
      "3189                 188.91               0               0               1  \n",
      "3190                 205.97               0               0               1  \n",
      "3191                 107.50               0               0               1  \n",
      "3192                 100.00               0               0               1  \n",
      "3193                 110.00               0               0               1  \n",
      "3194                 115.00               0               0               1  \n",
      "3195                 117.51               0               0               1  \n",
      "3196                 172.50               0               0               1  \n",
      "3197                 222.96               1               0               0  \n",
      "3198                 115.93               0               0               1  \n",
      "3199                 249.96               0               0               1  \n",
      "3200                 175.51               0               0               1  \n",
      "3201                 117.26               0               0               1  \n",
      "3202                 261.29               0               0               1  \n",
      "3203                 205.00               0               0               1  \n",
      "3204                 132.50               0               0               1  \n",
      "3205                 223.23               0               0               1  \n",
      "3206                 120.00               0               0               1  \n",
      "3207                 161.50               0               0               1  \n",
      "3208                 137.50               0               0               1  \n",
      "\n",
      "[3209 rows x 16 columns]\n"
     ]
    }
   ],
   "source": [
    "data_full = data.join(data_naa)\n",
    "print(data_full)"
   ]
  },
  {
   "cell_type": "code",
   "execution_count": 20,
   "metadata": {
    "collapsed": true
   },
   "outputs": [],
   "source": [
    "data_full =data_full.drop(\"FavoriteGame\", axis=1)"
   ]
  },
  {
   "cell_type": "code",
   "execution_count": 21,
   "metadata": {},
   "outputs": [
    {
     "data": {
      "text/plain": [
       "Index(['City', 'NoOfChildren', 'MinAgeOfChild', 'MaxAgeOfChild', 'Tenure',\n",
       "       'FrquncyOfPurchase', 'NoOfUnitsPurchased', 'FrequencyOFPlay',\n",
       "       'NoOfGamesPlayed', 'NoOfGamesBought', 'FavoriteChannelOfTransaction',\n",
       "       'TotalRevenueGenerated', 'FavoriteGame_0', 'FavoriteGame_1',\n",
       "       'FavoriteGame_2'],\n",
       "      dtype='object')"
      ]
     },
     "execution_count": 21,
     "metadata": {},
     "output_type": "execute_result"
    }
   ],
   "source": [
    "data_full.columns"
   ]
  },
  {
   "cell_type": "markdown",
   "metadata": {},
   "source": [
    "# Seperating Independent and dependent variable"
   ]
  },
  {
   "cell_type": "code",
   "execution_count": 22,
   "metadata": {},
   "outputs": [
    {
     "name": "stdout",
     "output_type": "stream",
     "text": [
      "      City  NoOfChildren  MinAgeOfChild  MaxAgeOfChild  Tenure  \\\n",
      "0        0             2              3              8   210.0   \n",
      "1        0             2              3              6   442.0   \n",
      "2        0             4              3              5   424.0   \n",
      "3        0             1              6              6   261.0   \n",
      "4        0             3              6              9   422.0   \n",
      "5        0             2              3              4   378.0   \n",
      "6        0             3              8             12   369.0   \n",
      "7        0             2              6              8   404.0   \n",
      "8        0             4              6              9   420.0   \n",
      "9        1             3              5              6   333.0   \n",
      "10       0             1              5              5   323.0   \n",
      "11       0             3              4              9   167.0   \n",
      "12       0             1              4              4   381.0   \n",
      "13       0             4              5              7   399.0   \n",
      "14       0             3              4              7   444.0   \n",
      "15       0             2              3              5   371.0   \n",
      "16       0             1              6              6   355.0   \n",
      "17       0             1              7              7   346.0   \n",
      "18       0             2              6              7   211.0   \n",
      "19       0             2              4              7   278.0   \n",
      "20       0             3              4             10   448.0   \n",
      "21       0             2              3              6   447.0   \n",
      "22       0             1              8              8   471.0   \n",
      "23       0             1              4              4   189.0   \n",
      "24       0             2              5              7   427.0   \n",
      "25       0             2              5              8   351.0   \n",
      "26       0             2              6              6   453.0   \n",
      "27       0             4              3              7   418.0   \n",
      "28       0             3              3             13   424.0   \n",
      "29       0             5              2              7   444.0   \n",
      "...    ...           ...            ...            ...     ...   \n",
      "3179     0             2              3              5   351.0   \n",
      "3180     0             3              2             20   346.0   \n",
      "3181     0             1              8              8   350.0   \n",
      "3182     0             2              2              5   329.0   \n",
      "3183     0             2              6              6   358.0   \n",
      "3184     0             5              3              9   397.0   \n",
      "3185     0             5              1             13   456.0   \n",
      "3186     0             2              3              5   367.0   \n",
      "3187     0             1              5              5   425.0   \n",
      "3188     0             2              4              6   417.0   \n",
      "3189     0             4              4              7   176.0   \n",
      "3190     0             1              5              5   395.0   \n",
      "3191     0             1              6              6   220.0   \n",
      "3192     0             1              5              5   388.0   \n",
      "3193     0             5              5              7   442.0   \n",
      "3194     0             2              4              6   360.0   \n",
      "3195     0             2              4              7   226.0   \n",
      "3196     0             1              6              6   273.0   \n",
      "3197     0             1              6              6   135.0   \n",
      "3198     0             1              5              5   347.0   \n",
      "3199     0             1              6              6   352.0   \n",
      "3200     0             2              7              8   313.0   \n",
      "3201     0             3              2              6   424.0   \n",
      "3202     0             2              5              7   424.0   \n",
      "3203     0             1              4              4   431.0   \n",
      "3204     0             2              4              6   365.0   \n",
      "3205     0             2              2              5   348.0   \n",
      "3206     0             2              5              7   341.0   \n",
      "3207     0             2              6              7   368.0   \n",
      "3208     0             3              2              6   389.0   \n",
      "\n",
      "      FrquncyOfPurchase  NoOfUnitsPurchased  FrequencyOFPlay  NoOfGamesPlayed  \\\n",
      "0                    11                  11           2344.0              108   \n",
      "1                    20                  20            245.0               22   \n",
      "2                    18                  18           1059.0              130   \n",
      "3                    11                   9            365.0               34   \n",
      "4                    44                  31           1066.0              102   \n",
      "5                    16                  16            228.0               12   \n",
      "6                    25                  15             75.0                2   \n",
      "7                    13                  12           1488.0              118   \n",
      "8                    20                  16           2743.0              163   \n",
      "9                    15                  15           1967.0               56   \n",
      "10                    9                   9            218.0                1   \n",
      "11                   17                  17           1961.0              124   \n",
      "12                   15                  15            267.0               51   \n",
      "13                   36                  24           6411.0              355   \n",
      "14                   14                  14           2804.0              133   \n",
      "15                    6                   6           1746.0               61   \n",
      "16                   11                  11           1367.0               49   \n",
      "17                   18                  16           1029.0              106   \n",
      "18                    7                   7            428.0               26   \n",
      "19                   12                  12           1080.0               49   \n",
      "20                    6                   6           1016.0               56   \n",
      "21                   14                  14           1617.0               58   \n",
      "22                   18                  18           2131.0               67   \n",
      "23                   22                  18            267.0               33   \n",
      "24                   16                  16           3781.0              288   \n",
      "25                    5                   5            182.0               26   \n",
      "26                   12                  10           4036.0              146   \n",
      "27                   51                  41           2947.0              241   \n",
      "28                   17                  17           1606.0              132   \n",
      "29                   26                  26           7766.0              583   \n",
      "...                 ...                 ...              ...              ...   \n",
      "3179                 30                  20           1535.0              158   \n",
      "3180                 17                  13           1206.0              146   \n",
      "3181                 15                  15           1303.0               51   \n",
      "3182                 13                  13           1404.0               98   \n",
      "3183                 32                  32            528.0               52   \n",
      "3184                 26                  20            698.0               90   \n",
      "3185                 19                  18           1033.0              122   \n",
      "3186                 11                  10           1644.0              102   \n",
      "3187                 30                  23           1839.0               92   \n",
      "3188                 11                  11          12263.0              558   \n",
      "3189                 10                  14           3315.0              115   \n",
      "3190                  9                   9             80.0               11   \n",
      "3191                  7                   7             37.0                5   \n",
      "3192                 13                  13            896.0               34   \n",
      "3193                 19                  13           1607.0               31   \n",
      "3194                 17                  17            511.0               94   \n",
      "3195                 15                  15            803.0               64   \n",
      "3196                 12                  12            881.0               62   \n",
      "3197                  8                   8              7.0                2   \n",
      "3198                 12                   9            678.0              123   \n",
      "3199                 27                  24           2042.0              194   \n",
      "3200                 15                  15            952.0              113   \n",
      "3201                 20                  12           2038.0              177   \n",
      "3202                 32                  29           5933.0              382   \n",
      "3203                 26                  26           1166.0               72   \n",
      "3204                 16                  16            827.0               78   \n",
      "3205                 20                  20           2933.0              294   \n",
      "3206                 16                  13           1250.0              126   \n",
      "3207                 18                  14           1364.0              122   \n",
      "3208                 25                  17            475.0              111   \n",
      "\n",
      "      NoOfGamesBought  FavoriteChannelOfTransaction  FavoriteGame_0  \\\n",
      "0                  10                             1               0   \n",
      "1                   7                             0               0   \n",
      "2                  18                             0               0   \n",
      "3                  11                             0               0   \n",
      "4                  44                             1               0   \n",
      "5                  16                             0               1   \n",
      "6                  25                             0               1   \n",
      "7                  13                             0               0   \n",
      "8                  16                             1               0   \n",
      "9                  15                             0               0   \n",
      "10                  3                             0               1   \n",
      "11                 17                             1               0   \n",
      "12                 15                             0               0   \n",
      "13                 36                             0               0   \n",
      "14                 14                             1               0   \n",
      "15                  6                             0               0   \n",
      "16                 11                             0               0   \n",
      "17                 14                             1               0   \n",
      "18                  0                             0               0   \n",
      "19                  8                             1               0   \n",
      "20                  6                             0               0   \n",
      "21                 11                             0               0   \n",
      "22                 18                             0               0   \n",
      "23                 12                             0               0   \n",
      "24                 16                             0               0   \n",
      "25                  3                             0               0   \n",
      "26                 12                             1               0   \n",
      "27                 51                             1               0   \n",
      "28                 17                             0               0   \n",
      "29                 26                             0               0   \n",
      "...               ...                           ...             ...   \n",
      "3179               30                             1               0   \n",
      "3180               17                             1               0   \n",
      "3181               15                             0               0   \n",
      "3182               13                             0               0   \n",
      "3183               14                             0               0   \n",
      "3184               26                             1               0   \n",
      "3185               13                             0               0   \n",
      "3186                8                             1               0   \n",
      "3187               27                             0               0   \n",
      "3188               11                             0               0   \n",
      "3189                5                             0               0   \n",
      "3190                0                             0               0   \n",
      "3191                7                             0               0   \n",
      "3192               13                             0               0   \n",
      "3193               19                             0               0   \n",
      "3194               17                             0               0   \n",
      "3195               15                             0               0   \n",
      "3196               12                             0               0   \n",
      "3197                1                             0               1   \n",
      "3198                6                             1               0   \n",
      "3199               23                             0               0   \n",
      "3200               10                             0               0   \n",
      "3201               20                             1               0   \n",
      "3202               29                             0               0   \n",
      "3203               26                             0               0   \n",
      "3204               16                             0               0   \n",
      "3205               13                             0               0   \n",
      "3206               16                             1               0   \n",
      "3207               18                             0               0   \n",
      "3208               25                             0               0   \n",
      "\n",
      "      FavoriteGame_1  FavoriteGame_2  \n",
      "0                  0               1  \n",
      "1                  0               1  \n",
      "2                  0               1  \n",
      "3                  0               1  \n",
      "4                  0               1  \n",
      "5                  0               0  \n",
      "6                  0               0  \n",
      "7                  0               1  \n",
      "8                  0               1  \n",
      "9                  0               1  \n",
      "10                 0               0  \n",
      "11                 0               1  \n",
      "12                 0               1  \n",
      "13                 0               1  \n",
      "14                 0               1  \n",
      "15                 0               1  \n",
      "16                 0               1  \n",
      "17                 0               1  \n",
      "18                 0               1  \n",
      "19                 0               1  \n",
      "20                 0               1  \n",
      "21                 0               1  \n",
      "22                 0               1  \n",
      "23                 0               1  \n",
      "24                 0               1  \n",
      "25                 0               1  \n",
      "26                 0               1  \n",
      "27                 0               1  \n",
      "28                 0               1  \n",
      "29                 0               1  \n",
      "...              ...             ...  \n",
      "3179               0               1  \n",
      "3180               0               1  \n",
      "3181               0               1  \n",
      "3182               0               1  \n",
      "3183               0               1  \n",
      "3184               0               1  \n",
      "3185               0               1  \n",
      "3186               0               1  \n",
      "3187               0               1  \n",
      "3188               0               1  \n",
      "3189               0               1  \n",
      "3190               0               1  \n",
      "3191               0               1  \n",
      "3192               0               1  \n",
      "3193               0               1  \n",
      "3194               0               1  \n",
      "3195               0               1  \n",
      "3196               0               1  \n",
      "3197               0               0  \n",
      "3198               0               1  \n",
      "3199               0               1  \n",
      "3200               0               1  \n",
      "3201               0               1  \n",
      "3202               0               1  \n",
      "3203               0               1  \n",
      "3204               0               1  \n",
      "3205               0               1  \n",
      "3206               0               1  \n",
      "3207               0               1  \n",
      "3208               0               1  \n",
      "\n",
      "[3209 rows x 14 columns]\n"
     ]
    }
   ],
   "source": [
    "x=data_full.drop(['TotalRevenueGenerated'], axis=1) #Independent variable\n",
    "print(x)"
   ]
  },
  {
   "cell_type": "code",
   "execution_count": 23,
   "metadata": {},
   "outputs": [
    {
     "name": "stdout",
     "output_type": "stream",
     "text": [
      "      TotalRevenueGenerated\n",
      "0                    107.51\n",
      "1                    382.40\n",
      "2                    135.01\n",
      "3                    125.00\n",
      "4                    335.05\n",
      "5                    150.00\n",
      "6                    127.50\n",
      "7                    122.50\n",
      "8                    164.96\n",
      "9                    112.62\n",
      "10                   211.92\n",
      "11                   125.04\n",
      "12                   167.50\n",
      "13                   202.50\n",
      "14                   105.50\n",
      "15                   117.50\n",
      "16                   175.00\n",
      "17                   181.71\n",
      "18                   144.93\n",
      "19                   182.36\n",
      "20                   100.00\n",
      "21                   199.93\n",
      "22                   172.50\n",
      "23                   348.09\n",
      "24                   185.02\n",
      "25                   139.99\n",
      "26                   135.00\n",
      "27                   388.01\n",
      "28                   152.51\n",
      "29                   205.01\n",
      "...                     ...\n",
      "3179                 151.75\n",
      "3180                 125.00\n",
      "3181                 222.50\n",
      "3182                 240.00\n",
      "3183                 461.67\n",
      "3184                 147.52\n",
      "3185                 300.00\n",
      "3186                 118.66\n",
      "3187                 231.21\n",
      "3188                 105.01\n",
      "3189                 188.91\n",
      "3190                 205.97\n",
      "3191                 107.50\n",
      "3192                 100.00\n",
      "3193                 110.00\n",
      "3194                 115.00\n",
      "3195                 117.51\n",
      "3196                 172.50\n",
      "3197                 222.96\n",
      "3198                 115.93\n",
      "3199                 249.96\n",
      "3200                 175.51\n",
      "3201                 117.26\n",
      "3202                 261.29\n",
      "3203                 205.00\n",
      "3204                 132.50\n",
      "3205                 223.23\n",
      "3206                 120.00\n",
      "3207                 161.50\n",
      "3208                 137.50\n",
      "\n",
      "[3209 rows x 1 columns]\n"
     ]
    }
   ],
   "source": [
    "y=data_full.loc[:,['TotalRevenueGenerated']]  #Dependent variable\n",
    "print(y)"
   ]
  },
  {
   "cell_type": "markdown",
   "metadata": {},
   "source": [
    "# Splitting the data in train and test"
   ]
  },
  {
   "cell_type": "code",
   "execution_count": 24,
   "metadata": {},
   "outputs": [
    {
     "name": "stderr",
     "output_type": "stream",
     "text": [
      "C:\\Users\\Raghuram\\Anaconda3\\lib\\site-packages\\sklearn\\cross_validation.py:41: DeprecationWarning: This module was deprecated in version 0.18 in favor of the model_selection module into which all the refactored classes and functions are moved. Also note that the interface of the new CV iterators are different from that of this module. This module will be removed in 0.20.\n",
      "  \"This module will be removed in 0.20.\", DeprecationWarning)\n"
     ]
    }
   ],
   "source": [
    "from sklearn.cross_validation import train_test_split\n",
    "x_train, x_test1, y_train ,y_test1 =train_test_split(x,y, test_size=0.2, random_state=128)"
   ]
  },
  {
   "cell_type": "markdown",
   "metadata": {},
   "source": [
    "# Building linear regression model"
   ]
  },
  {
   "cell_type": "code",
   "execution_count": 25,
   "metadata": {},
   "outputs": [
    {
     "data": {
      "text/plain": [
       "LinearRegression(copy_X=True, fit_intercept=True, n_jobs=1, normalize=False)"
      ]
     },
     "execution_count": 25,
     "metadata": {},
     "output_type": "execute_result"
    }
   ],
   "source": [
    "\n",
    "from sklearn.linear_model import LinearRegression\n",
    "multi_reg = LinearRegression()\n",
    "multi_reg.fit(x_train, y_train)"
   ]
  },
  {
   "cell_type": "markdown",
   "metadata": {},
   "source": [
    "# R2 value "
   ]
  },
  {
   "cell_type": "code",
   "execution_count": 26,
   "metadata": {},
   "outputs": [
    {
     "data": {
      "text/plain": [
       "0.69920089495603621"
      ]
     },
     "execution_count": 26,
     "metadata": {},
     "output_type": "execute_result"
    }
   ],
   "source": [
    "multi_reg.score(x_test1, y_test1)"
   ]
  },
  {
   "cell_type": "code",
   "execution_count": 27,
   "metadata": {},
   "outputs": [
    {
     "data": {
      "text/plain": [
       "array([[ 123.54096565],\n",
       "       [ 342.65394713],\n",
       "       [ 180.53464186],\n",
       "       ..., \n",
       "       [ 120.6748212 ],\n",
       "       [ 141.95806606],\n",
       "       [ 159.39210617]])"
      ]
     },
     "execution_count": 27,
     "metadata": {},
     "output_type": "execute_result"
    }
   ],
   "source": [
    "y_pred = multi_reg.predict(x)\n",
    "y_pred"
   ]
  },
  {
   "cell_type": "code",
   "execution_count": 28,
   "metadata": {},
   "outputs": [
    {
     "data": {
      "text/plain": [
       "(3209, 14)"
      ]
     },
     "execution_count": 28,
     "metadata": {},
     "output_type": "execute_result"
    }
   ],
   "source": [
    "x.shape"
   ]
  },
  {
   "cell_type": "code",
   "execution_count": 29,
   "metadata": {},
   "outputs": [
    {
     "data": {
      "text/plain": [
       "(3209, 1)"
      ]
     },
     "execution_count": 29,
     "metadata": {},
     "output_type": "execute_result"
    }
   ],
   "source": [
    "y.shape"
   ]
  },
  {
   "cell_type": "code",
   "execution_count": 30,
   "metadata": {
    "collapsed": true
   },
   "outputs": [],
   "source": [
    "m = multi_reg.coef_\n",
    "c = multi_reg.intercept_"
   ]
  },
  {
   "cell_type": "code",
   "execution_count": 31,
   "metadata": {},
   "outputs": [
    {
     "data": {
      "text/plain": [
       "array([[  9.86794164e+00,   2.54879291e+00,   8.15829205e-01,\n",
       "         -1.59079831e-01,  -2.10675345e-02,   1.03854530e+01,\n",
       "          9.48297693e+00,   2.84443627e-03,  -3.45318512e-02,\n",
       "         -1.15094780e+01,  -1.33389190e+01,  -6.42166014e-01,\n",
       "          1.54621956e+01,  -1.48200296e+01]])"
      ]
     },
     "execution_count": 31,
     "metadata": {},
     "output_type": "execute_result"
    }
   ],
   "source": [
    "multi_reg.coef_"
   ]
  },
  {
   "cell_type": "code",
   "execution_count": 32,
   "metadata": {},
   "outputs": [
    {
     "data": {
      "text/plain": [
       "array([ 43.45579359])"
      ]
     },
     "execution_count": 32,
     "metadata": {},
     "output_type": "execute_result"
    }
   ],
   "source": [
    "multi_reg.intercept_"
   ]
  },
  {
   "cell_type": "code",
   "execution_count": 33,
   "metadata": {
    "collapsed": true
   },
   "outputs": [],
   "source": [
    "from sklearn import metrics"
   ]
  },
  {
   "cell_type": "markdown",
   "metadata": {},
   "source": [
    "## MAE"
   ]
  },
  {
   "cell_type": "code",
   "execution_count": 34,
   "metadata": {},
   "outputs": [
    {
     "data": {
      "text/plain": [
       "31.449648823047642"
      ]
     },
     "execution_count": 34,
     "metadata": {},
     "output_type": "execute_result"
    }
   ],
   "source": [
    "mae = metrics.mean_absolute_error(y, y_pred)\n",
    "mae"
   ]
  },
  {
   "cell_type": "markdown",
   "metadata": {},
   "source": [
    "## MSE"
   ]
  },
  {
   "cell_type": "code",
   "execution_count": 35,
   "metadata": {
    "scrolled": true
   },
   "outputs": [
    {
     "data": {
      "text/plain": [
       "1883.1996856377721"
      ]
     },
     "execution_count": 35,
     "metadata": {},
     "output_type": "execute_result"
    }
   ],
   "source": [
    "mse = metrics.mean_squared_error(y, y_pred)\n",
    "mse"
   ]
  },
  {
   "cell_type": "markdown",
   "metadata": {},
   "source": [
    "## RMSE"
   ]
  },
  {
   "cell_type": "code",
   "execution_count": 36,
   "metadata": {
    "scrolled": true
   },
   "outputs": [
    {
     "data": {
      "text/plain": [
       "43.395848714338705"
      ]
     },
     "execution_count": 36,
     "metadata": {},
     "output_type": "execute_result"
    }
   ],
   "source": [
    "rmse = mse**(1/2)\n",
    "rmse"
   ]
  },
  {
   "cell_type": "markdown",
   "metadata": {},
   "source": [
    "## R^2"
   ]
  },
  {
   "cell_type": "code",
   "execution_count": 37,
   "metadata": {},
   "outputs": [
    {
     "data": {
      "text/plain": [
       "0.71845958167397672"
      ]
     },
     "execution_count": 37,
     "metadata": {},
     "output_type": "execute_result"
    }
   ],
   "source": [
    "r2 = metrics.r2_score(y, y_pred)\n",
    "r2"
   ]
  },
  {
   "cell_type": "markdown",
   "metadata": {},
   "source": [
    "## Midean absoulute Error"
   ]
  },
  {
   "cell_type": "code",
   "execution_count": 38,
   "metadata": {
    "scrolled": true
   },
   "outputs": [
    {
     "data": {
      "text/plain": [
       "24.725765655209884"
      ]
     },
     "execution_count": 38,
     "metadata": {},
     "output_type": "execute_result"
    }
   ],
   "source": [
    "Mae = metrics.median_absolute_error(y, y_pred)\n",
    "Mae"
   ]
  },
  {
   "cell_type": "markdown",
   "metadata": {},
   "source": [
    "## Explained variance score"
   ]
  },
  {
   "cell_type": "code",
   "execution_count": 39,
   "metadata": {},
   "outputs": [
    {
     "data": {
      "text/plain": [
       "0.71846330190817431"
      ]
     },
     "execution_count": 39,
     "metadata": {},
     "output_type": "execute_result"
    }
   ],
   "source": [
    "mev = metrics.explained_variance_score(y, y_pred)\n",
    "mev"
   ]
  },
  {
   "cell_type": "markdown",
   "metadata": {},
   "source": [
    "# K - fold Cross Validation "
   ]
  },
  {
   "cell_type": "markdown",
   "metadata": {},
   "source": [
    "## R^2"
   ]
  },
  {
   "cell_type": "code",
   "execution_count": 40,
   "metadata": {},
   "outputs": [
    {
     "name": "stdout",
     "output_type": "stream",
     "text": [
      "0.705984416126\n"
     ]
    }
   ],
   "source": [
    "from sklearn import model_selection\n",
    "kfold = model_selection.KFold(n_splits=10, random_state=121)\n",
    "scoring = 'r2'\n",
    "results = model_selection.cross_val_score(multi_reg, x, y, cv=kfold, scoring=scoring)\n",
    "print(results.mean())"
   ]
  },
  {
   "cell_type": "markdown",
   "metadata": {},
   "source": [
    "## MSE"
   ]
  },
  {
   "cell_type": "code",
   "execution_count": 41,
   "metadata": {},
   "outputs": [
    {
     "name": "stdout",
     "output_type": "stream",
     "text": [
      "-1905.93169591\n"
     ]
    }
   ],
   "source": [
    "scoring = 'neg_mean_squared_error'\n",
    "results = model_selection.cross_val_score(multi_reg,  x, y, cv=kfold, scoring=scoring)\n",
    "print(results.mean())"
   ]
  },
  {
   "cell_type": "markdown",
   "metadata": {},
   "source": [
    "## MAE"
   ]
  },
  {
   "cell_type": "code",
   "execution_count": 42,
   "metadata": {},
   "outputs": [
    {
     "name": "stdout",
     "output_type": "stream",
     "text": [
      "-31.5245692926\n"
     ]
    }
   ],
   "source": [
    "scoring = 'neg_mean_absolute_error'\n",
    "results = model_selection.cross_val_score(multi_reg,  x, y, cv=kfold, scoring=scoring)\n",
    "print(results.mean())"
   ]
  },
  {
   "cell_type": "code",
   "execution_count": null,
   "metadata": {
    "collapsed": true
   },
   "outputs": [],
   "source": []
  }
 ],
 "metadata": {
  "kernelspec": {
   "display_name": "Python 3",
   "language": "python",
   "name": "python3"
  },
  "language_info": {
   "codemirror_mode": {
    "name": "ipython",
    "version": 3
   },
   "file_extension": ".py",
   "mimetype": "text/x-python",
   "name": "python",
   "nbconvert_exporter": "python",
   "pygments_lexer": "ipython3",
   "version": "3.7.4"
  }
 },
 "nbformat": 4,
 "nbformat_minor": 2
}
