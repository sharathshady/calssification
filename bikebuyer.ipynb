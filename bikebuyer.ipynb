{
 "cells": [
  {
   "cell_type": "code",
   "execution_count": 1,
   "metadata": {
    "collapsed": true
   },
   "outputs": [],
   "source": [
    "import numpy as np\n",
    "import pandas as pd\n",
    "import matplotlib.pyplot as plt\n",
    "%matplotlib inline"
   ]
  },
  {
   "cell_type": "code",
   "execution_count": 2,
   "metadata": {
    "collapsed": true
   },
   "outputs": [],
   "source": [
    "bike = pd.read_csv('bikebuyer.csv')"
   ]
  },
  {
   "cell_type": "code",
   "execution_count": 3,
   "metadata": {},
   "outputs": [
    {
     "data": {
      "text/html": [
       "<div>\n",
       "<style>\n",
       "    .dataframe thead tr:only-child th {\n",
       "        text-align: right;\n",
       "    }\n",
       "\n",
       "    .dataframe thead th {\n",
       "        text-align: left;\n",
       "    }\n",
       "\n",
       "    .dataframe tbody tr th {\n",
       "        vertical-align: top;\n",
       "    }\n",
       "</style>\n",
       "<table border=\"1\" class=\"dataframe\">\n",
       "  <thead>\n",
       "    <tr style=\"text-align: right;\">\n",
       "      <th></th>\n",
       "      <th>ID</th>\n",
       "      <th>Marital Status</th>\n",
       "      <th>Gender</th>\n",
       "      <th>Yearly Income</th>\n",
       "      <th>Children</th>\n",
       "      <th>Education</th>\n",
       "      <th>Occupation</th>\n",
       "      <th>Home Owner</th>\n",
       "      <th>Cars</th>\n",
       "      <th>Commute Distance</th>\n",
       "      <th>Region</th>\n",
       "      <th>Age</th>\n",
       "      <th>Bike Buyer</th>\n",
       "    </tr>\n",
       "  </thead>\n",
       "  <tbody>\n",
       "    <tr>\n",
       "      <th>0</th>\n",
       "      <td>22711</td>\n",
       "      <td>Single</td>\n",
       "      <td>Male</td>\n",
       "      <td>30000</td>\n",
       "      <td>0</td>\n",
       "      <td>Partial College</td>\n",
       "      <td>Clerical</td>\n",
       "      <td>No</td>\n",
       "      <td>1</td>\n",
       "      <td>1.0</td>\n",
       "      <td>Europe</td>\n",
       "      <td>33</td>\n",
       "      <td>Yes</td>\n",
       "    </tr>\n",
       "    <tr>\n",
       "      <th>1</th>\n",
       "      <td>13555</td>\n",
       "      <td>Married</td>\n",
       "      <td>Female</td>\n",
       "      <td>40000</td>\n",
       "      <td>0</td>\n",
       "      <td>Graduate Degree</td>\n",
       "      <td>Clerical</td>\n",
       "      <td>Yes</td>\n",
       "      <td>0</td>\n",
       "      <td>1.0</td>\n",
       "      <td>Europe</td>\n",
       "      <td>37</td>\n",
       "      <td>Yes</td>\n",
       "    </tr>\n",
       "    <tr>\n",
       "      <th>2</th>\n",
       "      <td>28907</td>\n",
       "      <td>Married</td>\n",
       "      <td>Male</td>\n",
       "      <td>160000</td>\n",
       "      <td>5</td>\n",
       "      <td>Partial College</td>\n",
       "      <td>Professional</td>\n",
       "      <td>No</td>\n",
       "      <td>3</td>\n",
       "      <td>2.0</td>\n",
       "      <td>Europe</td>\n",
       "      <td>55</td>\n",
       "      <td>No</td>\n",
       "    </tr>\n",
       "    <tr>\n",
       "      <th>3</th>\n",
       "      <td>2</td>\n",
       "      <td>Single</td>\n",
       "      <td>Male</td>\n",
       "      <td>160000</td>\n",
       "      <td>0</td>\n",
       "      <td>Graduate Degree</td>\n",
       "      <td>Management</td>\n",
       "      <td>Yes</td>\n",
       "      <td>2</td>\n",
       "      <td>5.0</td>\n",
       "      <td>Pacific</td>\n",
       "      <td>47</td>\n",
       "      <td>No</td>\n",
       "    </tr>\n",
       "    <tr>\n",
       "      <th>4</th>\n",
       "      <td>25410</td>\n",
       "      <td>Single</td>\n",
       "      <td>Female</td>\n",
       "      <td>70000</td>\n",
       "      <td>2</td>\n",
       "      <td>Bachelors</td>\n",
       "      <td>Skilled Manual</td>\n",
       "      <td>No</td>\n",
       "      <td>1</td>\n",
       "      <td>1.0</td>\n",
       "      <td>North America</td>\n",
       "      <td>38</td>\n",
       "      <td>Yes</td>\n",
       "    </tr>\n",
       "  </tbody>\n",
       "</table>\n",
       "</div>"
      ],
      "text/plain": [
       "      ID Marital Status  Gender  Yearly Income  Children        Education  \\\n",
       "0  22711         Single    Male          30000         0  Partial College   \n",
       "1  13555        Married  Female          40000         0  Graduate Degree   \n",
       "2  28907        Married    Male         160000         5  Partial College   \n",
       "3      2         Single    Male         160000         0  Graduate Degree   \n",
       "4  25410         Single  Female          70000         2        Bachelors   \n",
       "\n",
       "       Occupation Home Owner  Cars  Commute Distance         Region  Age  \\\n",
       "0        Clerical         No     1               1.0         Europe   33   \n",
       "1        Clerical        Yes     0               1.0         Europe   37   \n",
       "2    Professional         No     3               2.0         Europe   55   \n",
       "3      Management        Yes     2               5.0        Pacific   47   \n",
       "4  Skilled Manual         No     1               1.0  North America   38   \n",
       "\n",
       "  Bike Buyer  \n",
       "0        Yes  \n",
       "1        Yes  \n",
       "2         No  \n",
       "3         No  \n",
       "4        Yes  "
      ]
     },
     "execution_count": 3,
     "metadata": {},
     "output_type": "execute_result"
    }
   ],
   "source": [
    "bike.head()"
   ]
  },
  {
   "cell_type": "code",
   "execution_count": 4,
   "metadata": {},
   "outputs": [
    {
     "data": {
      "text/plain": [
       "(6997, 13)"
      ]
     },
     "execution_count": 4,
     "metadata": {},
     "output_type": "execute_result"
    }
   ],
   "source": [
    "bike.shape"
   ]
  },
  {
   "cell_type": "code",
   "execution_count": 5,
   "metadata": {},
   "outputs": [
    {
     "data": {
      "text/html": [
       "<div>\n",
       "<style>\n",
       "    .dataframe thead tr:only-child th {\n",
       "        text-align: right;\n",
       "    }\n",
       "\n",
       "    .dataframe thead th {\n",
       "        text-align: left;\n",
       "    }\n",
       "\n",
       "    .dataframe tbody tr th {\n",
       "        vertical-align: top;\n",
       "    }\n",
       "</style>\n",
       "<table border=\"1\" class=\"dataframe\">\n",
       "  <thead>\n",
       "    <tr style=\"text-align: right;\">\n",
       "      <th></th>\n",
       "      <th>ID</th>\n",
       "      <th>Yearly Income</th>\n",
       "      <th>Children</th>\n",
       "      <th>Cars</th>\n",
       "      <th>Commute Distance</th>\n",
       "      <th>Age</th>\n",
       "    </tr>\n",
       "  </thead>\n",
       "  <tbody>\n",
       "    <tr>\n",
       "      <th>count</th>\n",
       "      <td>6997.000000</td>\n",
       "      <td>6997.000000</td>\n",
       "      <td>6997.000000</td>\n",
       "      <td>6997.000000</td>\n",
       "      <td>6996.000000</td>\n",
       "      <td>6997.000000</td>\n",
       "    </tr>\n",
       "    <tr>\n",
       "      <th>mean</th>\n",
       "      <td>17746.030585</td>\n",
       "      <td>57030.155781</td>\n",
       "      <td>1.110619</td>\n",
       "      <td>1.586823</td>\n",
       "      <td>4.214551</td>\n",
       "      <td>45.107332</td>\n",
       "    </tr>\n",
       "    <tr>\n",
       "      <th>std</th>\n",
       "      <td>4339.171349</td>\n",
       "      <td>32068.231104</td>\n",
       "      <td>1.600296</td>\n",
       "      <td>1.146782</td>\n",
       "      <td>2.927598</td>\n",
       "      <td>11.916654</td>\n",
       "    </tr>\n",
       "    <tr>\n",
       "      <th>min</th>\n",
       "      <td>2.000000</td>\n",
       "      <td>10000.000000</td>\n",
       "      <td>0.000000</td>\n",
       "      <td>0.000000</td>\n",
       "      <td>1.000000</td>\n",
       "      <td>25.000000</td>\n",
       "    </tr>\n",
       "    <tr>\n",
       "      <th>25%</th>\n",
       "      <td>14250.000000</td>\n",
       "      <td>30000.000000</td>\n",
       "      <td>0.000000</td>\n",
       "      <td>1.000000</td>\n",
       "      <td>1.000000</td>\n",
       "      <td>36.000000</td>\n",
       "    </tr>\n",
       "    <tr>\n",
       "      <th>50%</th>\n",
       "      <td>17407.000000</td>\n",
       "      <td>60000.000000</td>\n",
       "      <td>0.000000</td>\n",
       "      <td>2.000000</td>\n",
       "      <td>4.000000</td>\n",
       "      <td>44.000000</td>\n",
       "    </tr>\n",
       "    <tr>\n",
       "      <th>75%</th>\n",
       "      <td>20614.000000</td>\n",
       "      <td>70000.000000</td>\n",
       "      <td>2.000000</td>\n",
       "      <td>2.000000</td>\n",
       "      <td>6.000000</td>\n",
       "      <td>53.000000</td>\n",
       "    </tr>\n",
       "    <tr>\n",
       "      <th>max</th>\n",
       "      <td>29476.000000</td>\n",
       "      <td>170000.000000</td>\n",
       "      <td>5.000000</td>\n",
       "      <td>4.000000</td>\n",
       "      <td>13.000000</td>\n",
       "      <td>96.000000</td>\n",
       "    </tr>\n",
       "  </tbody>\n",
       "</table>\n",
       "</div>"
      ],
      "text/plain": [
       "                 ID  Yearly Income     Children         Cars  \\\n",
       "count   6997.000000    6997.000000  6997.000000  6997.000000   \n",
       "mean   17746.030585   57030.155781     1.110619     1.586823   \n",
       "std     4339.171349   32068.231104     1.600296     1.146782   \n",
       "min        2.000000   10000.000000     0.000000     0.000000   \n",
       "25%    14250.000000   30000.000000     0.000000     1.000000   \n",
       "50%    17407.000000   60000.000000     0.000000     2.000000   \n",
       "75%    20614.000000   70000.000000     2.000000     2.000000   \n",
       "max    29476.000000  170000.000000     5.000000     4.000000   \n",
       "\n",
       "       Commute Distance          Age  \n",
       "count       6996.000000  6997.000000  \n",
       "mean           4.214551    45.107332  \n",
       "std            2.927598    11.916654  \n",
       "min            1.000000    25.000000  \n",
       "25%            1.000000    36.000000  \n",
       "50%            4.000000    44.000000  \n",
       "75%            6.000000    53.000000  \n",
       "max           13.000000    96.000000  "
      ]
     },
     "execution_count": 5,
     "metadata": {},
     "output_type": "execute_result"
    }
   ],
   "source": [
    "bike.describe()"
   ]
  },
  {
   "cell_type": "code",
   "execution_count": 6,
   "metadata": {},
   "outputs": [
    {
     "data": {
      "text/plain": [
       "ID                  False\n",
       "Marital Status      False\n",
       "Gender              False\n",
       "Yearly Income       False\n",
       "Children            False\n",
       "Education           False\n",
       "Occupation          False\n",
       "Home Owner          False\n",
       "Cars                False\n",
       "Commute Distance     True\n",
       "Region              False\n",
       "Age                 False\n",
       "Bike Buyer          False\n",
       "dtype: bool"
      ]
     },
     "execution_count": 6,
     "metadata": {},
     "output_type": "execute_result"
    }
   ],
   "source": [
    "bike.isnull().any()"
   ]
  },
  {
   "cell_type": "code",
   "execution_count": 7,
   "metadata": {},
   "outputs": [
    {
     "data": {
      "text/plain": [
       "ID                  0\n",
       "Marital Status      0\n",
       "Gender              0\n",
       "Yearly Income       0\n",
       "Children            0\n",
       "Education           0\n",
       "Occupation          0\n",
       "Home Owner          0\n",
       "Cars                0\n",
       "Commute Distance    1\n",
       "Region              0\n",
       "Age                 0\n",
       "Bike Buyer          0\n",
       "dtype: int64"
      ]
     },
     "execution_count": 7,
     "metadata": {},
     "output_type": "execute_result"
    }
   ],
   "source": [
    "bike.isnull().sum()"
   ]
  },
  {
   "cell_type": "code",
   "execution_count": 8,
   "metadata": {},
   "outputs": [
    {
     "data": {
      "text/plain": [
       "ID                    int64\n",
       "Marital Status       object\n",
       "Gender               object\n",
       "Yearly Income         int64\n",
       "Children              int64\n",
       "Education            object\n",
       "Occupation           object\n",
       "Home Owner           object\n",
       "Cars                  int64\n",
       "Commute Distance    float64\n",
       "Region               object\n",
       "Age                   int64\n",
       "Bike Buyer           object\n",
       "dtype: object"
      ]
     },
     "execution_count": 8,
     "metadata": {},
     "output_type": "execute_result"
    }
   ],
   "source": [
    "bike.dtypes"
   ]
  },
  {
   "cell_type": "code",
   "execution_count": 9,
   "metadata": {
    "collapsed": true
   },
   "outputs": [],
   "source": [
    "from sklearn.preprocessing import Imputer\n",
    "imp = Imputer()"
   ]
  },
  {
   "cell_type": "code",
   "execution_count": 10,
   "metadata": {
    "collapsed": true
   },
   "outputs": [],
   "source": [
    "bike.iloc[:,9:10]=imp.fit_transform(bike.iloc[:,9:10])"
   ]
  },
  {
   "cell_type": "code",
   "execution_count": 11,
   "metadata": {},
   "outputs": [
    {
     "data": {
      "text/plain": [
       "ID                  False\n",
       "Marital Status      False\n",
       "Gender              False\n",
       "Yearly Income       False\n",
       "Children            False\n",
       "Education           False\n",
       "Occupation          False\n",
       "Home Owner          False\n",
       "Cars                False\n",
       "Commute Distance    False\n",
       "Region              False\n",
       "Age                 False\n",
       "Bike Buyer          False\n",
       "dtype: bool"
      ]
     },
     "execution_count": 11,
     "metadata": {},
     "output_type": "execute_result"
    }
   ],
   "source": [
    "bike.isnull().any()"
   ]
  },
  {
   "cell_type": "code",
   "execution_count": 12,
   "metadata": {
    "collapsed": true
   },
   "outputs": [],
   "source": [
    "from sklearn.preprocessing import LabelEncoder\n",
    "le=LabelEncoder()"
   ]
  },
  {
   "cell_type": "code",
   "execution_count": 13,
   "metadata": {},
   "outputs": [
    {
     "name": "stdout",
     "output_type": "stream",
     "text": [
      "0    4141\n",
      "1    2856\n",
      "Name: Marital Status, dtype: int64\n",
      "1    3545\n",
      "0    3452\n",
      "Name: Gender, dtype: int64\n",
      "3    1932\n",
      "0    1870\n",
      "2    1313\n",
      "1    1272\n",
      "4     610\n",
      "Name: Education, dtype: int64\n",
      "3    2031\n",
      "4    1748\n",
      "1    1265\n",
      "2     990\n",
      "0     963\n",
      "Name: Occupation, dtype: int64\n",
      "1    4979\n",
      "0    2018\n",
      "Name: Home Owner, dtype: int64\n",
      "1    3728\n",
      "0    2096\n",
      "2    1173\n",
      "Name: Region, dtype: int64\n",
      "0    5997\n",
      "1    1000\n",
      "Name: Bike Buyer, dtype: int64\n"
     ]
    },
    {
     "data": {
      "text/plain": [
       "ID                    int64\n",
       "Marital Status        int64\n",
       "Gender                int64\n",
       "Yearly Income         int64\n",
       "Children              int64\n",
       "Education             int64\n",
       "Occupation            int64\n",
       "Home Owner            int64\n",
       "Cars                  int64\n",
       "Commute Distance    float64\n",
       "Region                int64\n",
       "Age                   int64\n",
       "Bike Buyer            int64\n",
       "dtype: object"
      ]
     },
     "execution_count": 13,
     "metadata": {},
     "output_type": "execute_result"
    }
   ],
   "source": [
    "from sklearn.preprocessing import LabelEncoder\n",
    "le = LabelEncoder()\n",
    "\n",
    "location = bike.columns\n",
    "l = [1,2,5,6,7,10,12]\n",
    "for i in l:\n",
    "    bike.iloc[:,i]= le.fit_transform(bike.iloc[:,i])\n",
    "    print(bike[location[i]].value_counts())\n",
    "    \n",
    "bike.dtypes"
   ]
  },
  {
   "cell_type": "code",
   "execution_count": 14,
   "metadata": {},
   "outputs": [
    {
     "data": {
      "text/plain": [
       "Index(['ID', 'Marital Status', 'Gender', 'Yearly Income', 'Children',\n",
       "       'Education', 'Occupation', 'Home Owner', 'Cars', 'Commute Distance',\n",
       "       'Region', 'Age', 'Bike Buyer'],\n",
       "      dtype='object')"
      ]
     },
     "execution_count": 14,
     "metadata": {},
     "output_type": "execute_result"
    }
   ],
   "source": [
    "bike.columns"
   ]
  },
  {
   "cell_type": "code",
   "execution_count": 15,
   "metadata": {},
   "outputs": [
    {
     "name": "stderr",
     "output_type": "stream",
     "text": [
      "C:\\Users\\DELL\\Anaconda3\\lib\\site-packages\\ipykernel_launcher.py:6: SettingWithCopyWarning: \n",
      "A value is trying to be set on a copy of a slice from a DataFrame.\n",
      "Try using .loc[row_indexer,col_indexer] = value instead\n",
      "\n",
      "See the caveats in the documentation: http://pandas.pydata.org/pandas-docs/stable/indexing.html#indexing-view-versus-copy\n",
      "  \n"
     ]
    },
    {
     "data": {
      "text/plain": [
       "Education    category\n",
       "dtype: object"
      ]
     },
     "execution_count": 15,
     "metadata": {},
     "output_type": "execute_result"
    }
   ],
   "source": [
    "bike_cat=bike.iloc[:,[5]]\n",
    "\n",
    "list1 = bike_cat.columns\n",
    "for i in range(0,1):\n",
    "    \n",
    "    bike_cat[list1[i]]= (bike_cat[list1[i]].astype('category'))   #changing the variable into category (uni8) \n",
    "                                                                    #inorder to do dummie\n",
    "bike_cat.dtypes"
   ]
  },
  {
   "cell_type": "code",
   "execution_count": 16,
   "metadata": {},
   "outputs": [
    {
     "name": "stdout",
     "output_type": "stream",
     "text": [
      "      Education_0  Education_1  Education_2  Education_3  Education_4\n",
      "0               0            0            0            1            0\n",
      "1               0            1            0            0            0\n",
      "2               0            0            0            1            0\n",
      "3               0            1            0            0            0\n",
      "4               1            0            0            0            0\n",
      "5               1            0            0            0            0\n",
      "6               0            0            1            0            0\n",
      "7               0            0            1            0            0\n",
      "8               1            0            0            0            0\n",
      "9               0            0            0            1            0\n",
      "10              1            0            0            0            0\n",
      "11              0            0            0            1            0\n",
      "12              0            0            0            1            0\n",
      "13              0            0            0            1            0\n",
      "14              0            0            0            1            0\n",
      "15              0            0            0            1            0\n",
      "16              1            0            0            0            0\n",
      "17              0            0            0            1            0\n",
      "18              0            0            0            1            0\n",
      "19              0            0            0            1            0\n",
      "20              1            0            0            0            0\n",
      "21              1            0            0            0            0\n",
      "22              1            0            0            0            0\n",
      "23              0            1            0            0            0\n",
      "24              0            0            0            1            0\n",
      "25              0            0            0            1            0\n",
      "26              0            0            0            1            0\n",
      "27              0            0            0            1            0\n",
      "28              0            0            0            1            0\n",
      "29              0            1            0            0            0\n",
      "...           ...          ...          ...          ...          ...\n",
      "6967            0            0            0            1            0\n",
      "6968            0            0            0            1            0\n",
      "6969            0            0            0            0            1\n",
      "6970            0            0            0            0            1\n",
      "6971            0            0            0            1            0\n",
      "6972            0            0            0            1            0\n",
      "6973            0            0            0            1            0\n",
      "6974            0            0            0            1            0\n",
      "6975            0            0            0            1            0\n",
      "6976            0            0            1            0            0\n",
      "6977            0            0            0            0            1\n",
      "6978            0            0            0            1            0\n",
      "6979            0            0            0            0            1\n",
      "6980            0            0            0            1            0\n",
      "6981            1            0            0            0            0\n",
      "6982            0            0            0            1            0\n",
      "6983            1            0            0            0            0\n",
      "6984            0            0            0            1            0\n",
      "6985            1            0            0            0            0\n",
      "6986            1            0            0            0            0\n",
      "6987            1            0            0            0            0\n",
      "6988            1            0            0            0            0\n",
      "6989            1            0            0            0            0\n",
      "6990            0            1            0            0            0\n",
      "6991            0            0            0            1            0\n",
      "6992            0            0            1            0            0\n",
      "6993            0            0            0            1            0\n",
      "6994            1            0            0            0            0\n",
      "6995            0            0            0            1            0\n",
      "6996            0            0            1            0            0\n",
      "\n",
      "[6997 rows x 5 columns]\n"
     ]
    }
   ],
   "source": [
    "bike_na=pd.get_dummies(bike_cat)\n",
    "print(bike_na)"
   ]
  },
  {
   "cell_type": "code",
   "execution_count": 17,
   "metadata": {},
   "outputs": [
    {
     "name": "stderr",
     "output_type": "stream",
     "text": [
      "C:\\Users\\DELL\\Anaconda3\\lib\\site-packages\\ipykernel_launcher.py:6: SettingWithCopyWarning: \n",
      "A value is trying to be set on a copy of a slice from a DataFrame.\n",
      "Try using .loc[row_indexer,col_indexer] = value instead\n",
      "\n",
      "See the caveats in the documentation: http://pandas.pydata.org/pandas-docs/stable/indexing.html#indexing-view-versus-copy\n",
      "  \n"
     ]
    },
    {
     "data": {
      "text/plain": [
       "Occupation    category\n",
       "dtype: object"
      ]
     },
     "execution_count": 17,
     "metadata": {},
     "output_type": "execute_result"
    }
   ],
   "source": [
    "bike_cat=bike.iloc[:,[6]]\n",
    "\n",
    "list1 = bike_cat.columns\n",
    "for i in range(0,1):\n",
    "    \n",
    "    bike_cat[list1[i]]= (bike_cat[list1[i]].astype('category'))   #changing the variable into category (uni8) \n",
    "                                                                    #inorder to do dummie\n",
    "bike_cat.dtypes"
   ]
  },
  {
   "cell_type": "code",
   "execution_count": 18,
   "metadata": {},
   "outputs": [
    {
     "name": "stdout",
     "output_type": "stream",
     "text": [
      "      Occupation_0  Occupation_1  Occupation_2  Occupation_3  Occupation_4\n",
      "0                1             0             0             0             0\n",
      "1                1             0             0             0             0\n",
      "2                0             0             0             1             0\n",
      "3                0             1             0             0             0\n",
      "4                0             0             0             0             1\n",
      "5                0             1             0             0             0\n",
      "6                0             0             0             1             0\n",
      "7                0             0             0             1             0\n",
      "8                1             0             0             0             0\n",
      "9                0             0             1             0             0\n",
      "10               0             1             0             0             0\n",
      "11               0             0             0             1             0\n",
      "12               0             0             0             0             1\n",
      "13               1             0             0             0             0\n",
      "14               0             0             0             1             0\n",
      "15               0             0             0             0             1\n",
      "16               0             0             0             0             1\n",
      "17               1             0             0             0             0\n",
      "18               1             0             0             0             0\n",
      "19               0             0             0             0             1\n",
      "20               0             0             0             1             0\n",
      "21               0             0             0             1             0\n",
      "22               0             0             0             1             0\n",
      "23               0             0             0             1             0\n",
      "24               0             0             0             0             1\n",
      "25               0             0             0             1             0\n",
      "26               0             0             0             0             1\n",
      "27               0             0             0             0             1\n",
      "28               0             0             0             0             1\n",
      "29               1             0             0             0             0\n",
      "...            ...           ...           ...           ...           ...\n",
      "6967             0             0             0             1             0\n",
      "6968             0             0             0             1             0\n",
      "6969             0             0             0             0             1\n",
      "6970             0             0             0             0             1\n",
      "6971             0             0             0             1             0\n",
      "6972             0             0             0             1             0\n",
      "6973             0             0             0             1             0\n",
      "6974             0             0             0             1             0\n",
      "6975             0             0             0             1             0\n",
      "6976             0             0             0             1             0\n",
      "6977             0             0             0             1             0\n",
      "6978             0             0             0             1             0\n",
      "6979             0             0             0             1             0\n",
      "6980             0             0             0             1             0\n",
      "6981             0             1             0             0             0\n",
      "6982             0             0             0             1             0\n",
      "6983             0             1             0             0             0\n",
      "6984             0             0             0             1             0\n",
      "6985             0             1             0             0             0\n",
      "6986             0             1             0             0             0\n",
      "6987             0             1             0             0             0\n",
      "6988             0             1             0             0             0\n",
      "6989             0             1             0             0             0\n",
      "6990             0             1             0             0             0\n",
      "6991             0             0             0             1             0\n",
      "6992             0             0             0             1             0\n",
      "6993             0             0             0             1             0\n",
      "6994             0             1             0             0             0\n",
      "6995             0             0             0             1             0\n",
      "6996             0             0             0             1             0\n",
      "\n",
      "[6997 rows x 5 columns]\n"
     ]
    }
   ],
   "source": [
    "bike_naa=pd.get_dummies(bike_cat)\n",
    "print(bike_naa)"
   ]
  },
  {
   "cell_type": "code",
   "execution_count": 19,
   "metadata": {},
   "outputs": [
    {
     "name": "stderr",
     "output_type": "stream",
     "text": [
      "C:\\Users\\DELL\\Anaconda3\\lib\\site-packages\\ipykernel_launcher.py:6: SettingWithCopyWarning: \n",
      "A value is trying to be set on a copy of a slice from a DataFrame.\n",
      "Try using .loc[row_indexer,col_indexer] = value instead\n",
      "\n",
      "See the caveats in the documentation: http://pandas.pydata.org/pandas-docs/stable/indexing.html#indexing-view-versus-copy\n",
      "  \n"
     ]
    },
    {
     "data": {
      "text/plain": [
       "Region    category\n",
       "dtype: object"
      ]
     },
     "execution_count": 19,
     "metadata": {},
     "output_type": "execute_result"
    }
   ],
   "source": [
    "bike_cat=bike.iloc[:,[10]]\n",
    "\n",
    "list1 = bike_cat.columns\n",
    "for i in range(0,1):\n",
    "    \n",
    "    bike_cat[list1[i]]= (bike_cat[list1[i]].astype('category'))   #changing the variable into category (uni8) \n",
    "                                                                    #inorder to do dummie\n",
    "bike_cat.dtypes"
   ]
  },
  {
   "cell_type": "code",
   "execution_count": 20,
   "metadata": {},
   "outputs": [
    {
     "name": "stdout",
     "output_type": "stream",
     "text": [
      "      Region_0  Region_1  Region_2\n",
      "0            1         0         0\n",
      "1            1         0         0\n",
      "2            1         0         0\n",
      "3            0         0         1\n",
      "4            0         1         0\n",
      "5            0         1         0\n",
      "6            0         0         1\n",
      "7            0         1         0\n",
      "8            1         0         0\n",
      "9            1         0         0\n",
      "10           0         1         0\n",
      "11           0         1         0\n",
      "12           0         1         0\n",
      "13           0         1         0\n",
      "14           0         1         0\n",
      "15           0         0         1\n",
      "16           0         1         0\n",
      "17           0         1         0\n",
      "18           0         1         0\n",
      "19           0         0         1\n",
      "20           0         0         1\n",
      "21           0         0         1\n",
      "22           0         0         1\n",
      "23           0         1         0\n",
      "24           0         0         1\n",
      "25           1         0         0\n",
      "26           0         0         1\n",
      "27           0         0         1\n",
      "28           0         0         1\n",
      "29           1         0         0\n",
      "...        ...       ...       ...\n",
      "6967         0         1         0\n",
      "6968         0         1         0\n",
      "6969         0         1         0\n",
      "6970         0         1         0\n",
      "6971         0         1         0\n",
      "6972         0         1         0\n",
      "6973         1         0         0\n",
      "6974         1         0         0\n",
      "6975         1         0         0\n",
      "6976         1         0         0\n",
      "6977         1         0         0\n",
      "6978         1         0         0\n",
      "6979         1         0         0\n",
      "6980         1         0         0\n",
      "6981         1         0         0\n",
      "6982         1         0         0\n",
      "6983         1         0         0\n",
      "6984         1         0         0\n",
      "6985         1         0         0\n",
      "6986         1         0         0\n",
      "6987         1         0         0\n",
      "6988         1         0         0\n",
      "6989         1         0         0\n",
      "6990         1         0         0\n",
      "6991         1         0         0\n",
      "6992         1         0         0\n",
      "6993         1         0         0\n",
      "6994         1         0         0\n",
      "6995         1         0         0\n",
      "6996         1         0         0\n",
      "\n",
      "[6997 rows x 3 columns]\n"
     ]
    }
   ],
   "source": [
    "bike_naaa=pd.get_dummies(bike_cat)\n",
    "print(bike_naaa)"
   ]
  },
  {
   "cell_type": "code",
   "execution_count": 21,
   "metadata": {},
   "outputs": [
    {
     "name": "stdout",
     "output_type": "stream",
     "text": [
      "         ID  Marital Status  Gender  Yearly Income  Children  Education  \\\n",
      "0     22711               1       1          30000         0          3   \n",
      "1     13555               0       0          40000         0          1   \n",
      "2     28907               0       1         160000         5          3   \n",
      "3         2               1       1         160000         0          1   \n",
      "4     25410               1       0          70000         2          0   \n",
      "5         4               0       0         120000         2          0   \n",
      "6     15756               1       0          70000         0          2   \n",
      "7     11085               1       0          60000         0          2   \n",
      "8     17974               0       0          30000         1          0   \n",
      "9     21008               1       0          20000         1          3   \n",
      "10    28985               1       1          50000         0          0   \n",
      "11    11087               0       0          70000         2          3   \n",
      "12    20434               1       1          60000         0          3   \n",
      "13    14902               0       0          40000         0          3   \n",
      "14    11091               0       1          90000         0          3   \n",
      "15    11094               1       1          70000         0          3   \n",
      "16    18568               1       0          50000         2          0   \n",
      "17    16366               0       0          40000         0          3   \n",
      "18    20768               1       1          40000         0          3   \n",
      "19    11098               1       0          60000         0          3   \n",
      "20    18269               1       0          60000         2          0   \n",
      "21    11102               1       0          80000         5          0   \n",
      "22    11113               0       1          70000         4          0   \n",
      "23    26529               1       0          70000         0          1   \n",
      "24    11114               1       0          70000         4          3   \n",
      "25    23612               1       0          90000         0          3   \n",
      "26    11115               0       1          70000         4          3   \n",
      "27    11116               0       1          70000         4          3   \n",
      "28    11118               1       1          80000         0          3   \n",
      "29    19441               1       1          40000         0          1   \n",
      "...     ...             ...     ...            ...       ...        ...   \n",
      "6967  22779               0       1          60000         1          3   \n",
      "6968  22781               0       1          70000         2          3   \n",
      "6969  22783               0       1          70000         1          4   \n",
      "6970  22786               0       1          70000         1          4   \n",
      "6971  22792               0       1          70000         3          3   \n",
      "6972  22793               1       1          70000         3          3   \n",
      "6973  22794               0       0         130000         4          3   \n",
      "6974  22795               0       0         110000         4          3   \n",
      "6975  22796               0       1         110000         4          3   \n",
      "6976  22798               0       0         150000         3          2   \n",
      "6977  22799               0       0         120000         4          4   \n",
      "6978  22801               0       0         110000         4          3   \n",
      "6979  22802               1       0         120000         4          4   \n",
      "6980  22804               0       0          80000         1          3   \n",
      "6981  22805               0       0          80000         0          0   \n",
      "6982  22806               0       0          90000         0          3   \n",
      "6983  22807               0       0         130000         4          0   \n",
      "6984  22809               0       1          80000         0          3   \n",
      "6985  22811               0       1         110000         4          0   \n",
      "6986  22812               0       0         120000         4          0   \n",
      "6987  22813               0       1         130000         4          0   \n",
      "6988  22814               0       1         100000         3          0   \n",
      "6989  22815               0       0         100000         4          0   \n",
      "6990  22818               0       0         150000         4          1   \n",
      "6991  22819               0       0          80000         2          3   \n",
      "6992  22820               0       1         100000         4          2   \n",
      "6993  22821               0       0         130000         4          3   \n",
      "6994  22823               0       0         160000         5          0   \n",
      "6995  22825               1       0         120000         5          3   \n",
      "6996  22826               0       1         130000         5          2   \n",
      "\n",
      "      Occupation  Home Owner  Cars  Commute Distance  Region  Age  Bike Buyer  \\\n",
      "0              0           0     1               1.0       0   33           1   \n",
      "1              0           1     0               1.0       0   37           1   \n",
      "2              3           0     3               2.0       0   55           0   \n",
      "3              1           1     2               5.0       2   47           0   \n",
      "4              4           0     1               1.0       1   38           1   \n",
      "5              1           1     3               1.0       1   40           0   \n",
      "6              3           1     2               1.0       2   49           1   \n",
      "7              3           0     2               1.0       1   49           0   \n",
      "8              0           1     0              10.0       0   38           1   \n",
      "9              2           0     0               1.0       0   46           1   \n",
      "10             1           0     2               2.0       1   64           0   \n",
      "11             3           0     0              11.0       1   49           0   \n",
      "12             4           0     2               1.0       1   31           1   \n",
      "13             0           1     1               1.0       1   50           1   \n",
      "14             3           1     1               1.0       1   49           0   \n",
      "15             4           0     1               1.0       2   44           0   \n",
      "16             4           1     1               2.0       1   39           1   \n",
      "17             0           1     1               1.0       1   51           1   \n",
      "18             0           1     1               2.0       1   48           1   \n",
      "19             4           0     1               6.0       2   45           0   \n",
      "20             3           1     2               1.0       2   43           1   \n",
      "21             3           1     4              12.0       2   41           0   \n",
      "22             3           1     2               1.0       2   44           0   \n",
      "23             3           1     0               8.0       1   37           1   \n",
      "24             4           1     2               1.0       2   44           0   \n",
      "25             3           0     2               1.0       0   62           1   \n",
      "26             4           1     2               1.0       2   44           0   \n",
      "27             4           1     2               9.0       2   44           0   \n",
      "28             4           0     1               5.0       2   49           0   \n",
      "29             0           1     0               1.0       0   37           1   \n",
      "...          ...         ...   ...               ...     ...  ...         ...   \n",
      "6967           3           1     2               2.0       1   54           0   \n",
      "6968           3           1     1               1.0       1   55           0   \n",
      "6969           4           1     2               1.0       1   54           0   \n",
      "6970           4           1     3               2.0       1   54           0   \n",
      "6971           3           1     1               7.0       1   53           0   \n",
      "6972           3           1     1               8.0       1   53           0   \n",
      "6973           3           1     1               9.0       0   48           0   \n",
      "6974           3           1     3               2.0       0   49           0   \n",
      "6975           3           0     3               3.0       0   49           0   \n",
      "6976           3           1     4               5.0       0   49           0   \n",
      "6977           3           0     4               6.0       0   50           0   \n",
      "6978           3           1     4               7.0       0   51           0   \n",
      "6979           3           1     4               1.0       0   51           0   \n",
      "6980           3           1     2               2.0       0   51           0   \n",
      "6981           1           1     2               1.0       0   62           0   \n",
      "6982           3           1     2               1.0       0   62           0   \n",
      "6983           1           1     4               2.0       0   62           0   \n",
      "6984           3           1     2               7.0       0   61           0   \n",
      "6985           1           1     4               8.0       0   61           0   \n",
      "6986           1           1     4               9.0       0   61           0   \n",
      "6987           1           1     4               2.0       0   61           0   \n",
      "6988           1           1     4               3.0       0   60           0   \n",
      "6989           1           1     1               5.0       0   60           0   \n",
      "6990           1           1     4               6.0       0   60           0   \n",
      "6991           3           1     2               7.0       0   53           0   \n",
      "6992           3           1     3               1.0       0   52           0   \n",
      "6993           3           1     4               2.0       0   52           0   \n",
      "6994           1           1     2               1.0       0   53           0   \n",
      "6995           3           1     3               1.0       0   54           0   \n",
      "6996           3           1     3               2.0       0   54           0   \n",
      "\n",
      "      Education_0  Education_1  Education_2  Education_3  Education_4  \n",
      "0               0            0            0            1            0  \n",
      "1               0            1            0            0            0  \n",
      "2               0            0            0            1            0  \n",
      "3               0            1            0            0            0  \n",
      "4               1            0            0            0            0  \n",
      "5               1            0            0            0            0  \n",
      "6               0            0            1            0            0  \n",
      "7               0            0            1            0            0  \n",
      "8               1            0            0            0            0  \n",
      "9               0            0            0            1            0  \n",
      "10              1            0            0            0            0  \n",
      "11              0            0            0            1            0  \n",
      "12              0            0            0            1            0  \n",
      "13              0            0            0            1            0  \n",
      "14              0            0            0            1            0  \n",
      "15              0            0            0            1            0  \n",
      "16              1            0            0            0            0  \n",
      "17              0            0            0            1            0  \n",
      "18              0            0            0            1            0  \n",
      "19              0            0            0            1            0  \n",
      "20              1            0            0            0            0  \n",
      "21              1            0            0            0            0  \n",
      "22              1            0            0            0            0  \n",
      "23              0            1            0            0            0  \n",
      "24              0            0            0            1            0  \n",
      "25              0            0            0            1            0  \n",
      "26              0            0            0            1            0  \n",
      "27              0            0            0            1            0  \n",
      "28              0            0            0            1            0  \n",
      "29              0            1            0            0            0  \n",
      "...           ...          ...          ...          ...          ...  \n",
      "6967            0            0            0            1            0  \n",
      "6968            0            0            0            1            0  \n",
      "6969            0            0            0            0            1  \n",
      "6970            0            0            0            0            1  \n",
      "6971            0            0            0            1            0  \n",
      "6972            0            0            0            1            0  \n",
      "6973            0            0            0            1            0  \n",
      "6974            0            0            0            1            0  \n",
      "6975            0            0            0            1            0  \n",
      "6976            0            0            1            0            0  \n",
      "6977            0            0            0            0            1  \n",
      "6978            0            0            0            1            0  \n",
      "6979            0            0            0            0            1  \n",
      "6980            0            0            0            1            0  \n",
      "6981            1            0            0            0            0  \n",
      "6982            0            0            0            1            0  \n",
      "6983            1            0            0            0            0  \n",
      "6984            0            0            0            1            0  \n",
      "6985            1            0            0            0            0  \n",
      "6986            1            0            0            0            0  \n",
      "6987            1            0            0            0            0  \n",
      "6988            1            0            0            0            0  \n",
      "6989            1            0            0            0            0  \n",
      "6990            0            1            0            0            0  \n",
      "6991            0            0            0            1            0  \n",
      "6992            0            0            1            0            0  \n",
      "6993            0            0            0            1            0  \n",
      "6994            1            0            0            0            0  \n",
      "6995            0            0            0            1            0  \n",
      "6996            0            0            1            0            0  \n",
      "\n",
      "[6997 rows x 18 columns]\n"
     ]
    }
   ],
   "source": [
    "bike_full = bike.join(bike_na)\n",
    "print(bike_full)"
   ]
  },
  {
   "cell_type": "code",
   "execution_count": 22,
   "metadata": {
    "collapsed": true
   },
   "outputs": [],
   "source": [
    "bike_full =bike_full.drop(\"Education\", axis=1)"
   ]
  },
  {
   "cell_type": "code",
   "execution_count": 23,
   "metadata": {},
   "outputs": [
    {
     "data": {
      "text/plain": [
       "Index(['ID', 'Marital Status', 'Gender', 'Yearly Income', 'Children',\n",
       "       'Occupation', 'Home Owner', 'Cars', 'Commute Distance', 'Region', 'Age',\n",
       "       'Bike Buyer', 'Education_0', 'Education_1', 'Education_2',\n",
       "       'Education_3', 'Education_4'],\n",
       "      dtype='object')"
      ]
     },
     "execution_count": 23,
     "metadata": {},
     "output_type": "execute_result"
    }
   ],
   "source": [
    "bike_full.columns"
   ]
  },
  {
   "cell_type": "code",
   "execution_count": 24,
   "metadata": {},
   "outputs": [
    {
     "data": {
      "text/plain": [
       "(6997, 13)"
      ]
     },
     "execution_count": 24,
     "metadata": {},
     "output_type": "execute_result"
    }
   ],
   "source": [
    "bike.shape"
   ]
  },
  {
   "cell_type": "code",
   "execution_count": 25,
   "metadata": {},
   "outputs": [
    {
     "name": "stdout",
     "output_type": "stream",
     "text": [
      "         ID  Marital Status  Gender  Yearly Income  Children  Occupation  \\\n",
      "0     22711               1       1          30000         0           0   \n",
      "1     13555               0       0          40000         0           0   \n",
      "2     28907               0       1         160000         5           3   \n",
      "3         2               1       1         160000         0           1   \n",
      "4     25410               1       0          70000         2           4   \n",
      "5         4               0       0         120000         2           1   \n",
      "6     15756               1       0          70000         0           3   \n",
      "7     11085               1       0          60000         0           3   \n",
      "8     17974               0       0          30000         1           0   \n",
      "9     21008               1       0          20000         1           2   \n",
      "10    28985               1       1          50000         0           1   \n",
      "11    11087               0       0          70000         2           3   \n",
      "12    20434               1       1          60000         0           4   \n",
      "13    14902               0       0          40000         0           0   \n",
      "14    11091               0       1          90000         0           3   \n",
      "15    11094               1       1          70000         0           4   \n",
      "16    18568               1       0          50000         2           4   \n",
      "17    16366               0       0          40000         0           0   \n",
      "18    20768               1       1          40000         0           0   \n",
      "19    11098               1       0          60000         0           4   \n",
      "20    18269               1       0          60000         2           3   \n",
      "21    11102               1       0          80000         5           3   \n",
      "22    11113               0       1          70000         4           3   \n",
      "23    26529               1       0          70000         0           3   \n",
      "24    11114               1       0          70000         4           4   \n",
      "25    23612               1       0          90000         0           3   \n",
      "26    11115               0       1          70000         4           4   \n",
      "27    11116               0       1          70000         4           4   \n",
      "28    11118               1       1          80000         0           4   \n",
      "29    19441               1       1          40000         0           0   \n",
      "...     ...             ...     ...            ...       ...         ...   \n",
      "6967  22779               0       1          60000         1           3   \n",
      "6968  22781               0       1          70000         2           3   \n",
      "6969  22783               0       1          70000         1           4   \n",
      "6970  22786               0       1          70000         1           4   \n",
      "6971  22792               0       1          70000         3           3   \n",
      "6972  22793               1       1          70000         3           3   \n",
      "6973  22794               0       0         130000         4           3   \n",
      "6974  22795               0       0         110000         4           3   \n",
      "6975  22796               0       1         110000         4           3   \n",
      "6976  22798               0       0         150000         3           3   \n",
      "6977  22799               0       0         120000         4           3   \n",
      "6978  22801               0       0         110000         4           3   \n",
      "6979  22802               1       0         120000         4           3   \n",
      "6980  22804               0       0          80000         1           3   \n",
      "6981  22805               0       0          80000         0           1   \n",
      "6982  22806               0       0          90000         0           3   \n",
      "6983  22807               0       0         130000         4           1   \n",
      "6984  22809               0       1          80000         0           3   \n",
      "6985  22811               0       1         110000         4           1   \n",
      "6986  22812               0       0         120000         4           1   \n",
      "6987  22813               0       1         130000         4           1   \n",
      "6988  22814               0       1         100000         3           1   \n",
      "6989  22815               0       0         100000         4           1   \n",
      "6990  22818               0       0         150000         4           1   \n",
      "6991  22819               0       0          80000         2           3   \n",
      "6992  22820               0       1         100000         4           3   \n",
      "6993  22821               0       0         130000         4           3   \n",
      "6994  22823               0       0         160000         5           1   \n",
      "6995  22825               1       0         120000         5           3   \n",
      "6996  22826               0       1         130000         5           3   \n",
      "\n",
      "      Home Owner  Cars  Commute Distance  Region      ...       Education_0  \\\n",
      "0              0     1               1.0       0      ...                 0   \n",
      "1              1     0               1.0       0      ...                 0   \n",
      "2              0     3               2.0       0      ...                 0   \n",
      "3              1     2               5.0       2      ...                 0   \n",
      "4              0     1               1.0       1      ...                 1   \n",
      "5              1     3               1.0       1      ...                 1   \n",
      "6              1     2               1.0       2      ...                 0   \n",
      "7              0     2               1.0       1      ...                 0   \n",
      "8              1     0              10.0       0      ...                 1   \n",
      "9              0     0               1.0       0      ...                 0   \n",
      "10             0     2               2.0       1      ...                 1   \n",
      "11             0     0              11.0       1      ...                 0   \n",
      "12             0     2               1.0       1      ...                 0   \n",
      "13             1     1               1.0       1      ...                 0   \n",
      "14             1     1               1.0       1      ...                 0   \n",
      "15             0     1               1.0       2      ...                 0   \n",
      "16             1     1               2.0       1      ...                 1   \n",
      "17             1     1               1.0       1      ...                 0   \n",
      "18             1     1               2.0       1      ...                 0   \n",
      "19             0     1               6.0       2      ...                 0   \n",
      "20             1     2               1.0       2      ...                 1   \n",
      "21             1     4              12.0       2      ...                 1   \n",
      "22             1     2               1.0       2      ...                 1   \n",
      "23             1     0               8.0       1      ...                 0   \n",
      "24             1     2               1.0       2      ...                 0   \n",
      "25             0     2               1.0       0      ...                 0   \n",
      "26             1     2               1.0       2      ...                 0   \n",
      "27             1     2               9.0       2      ...                 0   \n",
      "28             0     1               5.0       2      ...                 0   \n",
      "29             1     0               1.0       0      ...                 0   \n",
      "...          ...   ...               ...     ...      ...               ...   \n",
      "6967           1     2               2.0       1      ...                 0   \n",
      "6968           1     1               1.0       1      ...                 0   \n",
      "6969           1     2               1.0       1      ...                 0   \n",
      "6970           1     3               2.0       1      ...                 0   \n",
      "6971           1     1               7.0       1      ...                 0   \n",
      "6972           1     1               8.0       1      ...                 0   \n",
      "6973           1     1               9.0       0      ...                 0   \n",
      "6974           1     3               2.0       0      ...                 0   \n",
      "6975           0     3               3.0       0      ...                 0   \n",
      "6976           1     4               5.0       0      ...                 0   \n",
      "6977           0     4               6.0       0      ...                 0   \n",
      "6978           1     4               7.0       0      ...                 0   \n",
      "6979           1     4               1.0       0      ...                 0   \n",
      "6980           1     2               2.0       0      ...                 0   \n",
      "6981           1     2               1.0       0      ...                 1   \n",
      "6982           1     2               1.0       0      ...                 0   \n",
      "6983           1     4               2.0       0      ...                 1   \n",
      "6984           1     2               7.0       0      ...                 0   \n",
      "6985           1     4               8.0       0      ...                 1   \n",
      "6986           1     4               9.0       0      ...                 1   \n",
      "6987           1     4               2.0       0      ...                 1   \n",
      "6988           1     4               3.0       0      ...                 1   \n",
      "6989           1     1               5.0       0      ...                 1   \n",
      "6990           1     4               6.0       0      ...                 0   \n",
      "6991           1     2               7.0       0      ...                 0   \n",
      "6992           1     3               1.0       0      ...                 0   \n",
      "6993           1     4               2.0       0      ...                 0   \n",
      "6994           1     2               1.0       0      ...                 1   \n",
      "6995           1     3               1.0       0      ...                 0   \n",
      "6996           1     3               2.0       0      ...                 0   \n",
      "\n",
      "      Education_1  Education_2  Education_3  Education_4  Occupation_0  \\\n",
      "0               0            0            1            0             1   \n",
      "1               1            0            0            0             1   \n",
      "2               0            0            1            0             0   \n",
      "3               1            0            0            0             0   \n",
      "4               0            0            0            0             0   \n",
      "5               0            0            0            0             0   \n",
      "6               0            1            0            0             0   \n",
      "7               0            1            0            0             0   \n",
      "8               0            0            0            0             1   \n",
      "9               0            0            1            0             0   \n",
      "10              0            0            0            0             0   \n",
      "11              0            0            1            0             0   \n",
      "12              0            0            1            0             0   \n",
      "13              0            0            1            0             1   \n",
      "14              0            0            1            0             0   \n",
      "15              0            0            1            0             0   \n",
      "16              0            0            0            0             0   \n",
      "17              0            0            1            0             1   \n",
      "18              0            0            1            0             1   \n",
      "19              0            0            1            0             0   \n",
      "20              0            0            0            0             0   \n",
      "21              0            0            0            0             0   \n",
      "22              0            0            0            0             0   \n",
      "23              1            0            0            0             0   \n",
      "24              0            0            1            0             0   \n",
      "25              0            0            1            0             0   \n",
      "26              0            0            1            0             0   \n",
      "27              0            0            1            0             0   \n",
      "28              0            0            1            0             0   \n",
      "29              1            0            0            0             1   \n",
      "...           ...          ...          ...          ...           ...   \n",
      "6967            0            0            1            0             0   \n",
      "6968            0            0            1            0             0   \n",
      "6969            0            0            0            1             0   \n",
      "6970            0            0            0            1             0   \n",
      "6971            0            0            1            0             0   \n",
      "6972            0            0            1            0             0   \n",
      "6973            0            0            1            0             0   \n",
      "6974            0            0            1            0             0   \n",
      "6975            0            0            1            0             0   \n",
      "6976            0            1            0            0             0   \n",
      "6977            0            0            0            1             0   \n",
      "6978            0            0            1            0             0   \n",
      "6979            0            0            0            1             0   \n",
      "6980            0            0            1            0             0   \n",
      "6981            0            0            0            0             0   \n",
      "6982            0            0            1            0             0   \n",
      "6983            0            0            0            0             0   \n",
      "6984            0            0            1            0             0   \n",
      "6985            0            0            0            0             0   \n",
      "6986            0            0            0            0             0   \n",
      "6987            0            0            0            0             0   \n",
      "6988            0            0            0            0             0   \n",
      "6989            0            0            0            0             0   \n",
      "6990            1            0            0            0             0   \n",
      "6991            0            0            1            0             0   \n",
      "6992            0            1            0            0             0   \n",
      "6993            0            0            1            0             0   \n",
      "6994            0            0            0            0             0   \n",
      "6995            0            0            1            0             0   \n",
      "6996            0            1            0            0             0   \n",
      "\n",
      "      Occupation_1  Occupation_2  Occupation_3  Occupation_4  \n",
      "0                0             0             0             0  \n",
      "1                0             0             0             0  \n",
      "2                0             0             1             0  \n",
      "3                1             0             0             0  \n",
      "4                0             0             0             1  \n",
      "5                1             0             0             0  \n",
      "6                0             0             1             0  \n",
      "7                0             0             1             0  \n",
      "8                0             0             0             0  \n",
      "9                0             1             0             0  \n",
      "10               1             0             0             0  \n",
      "11               0             0             1             0  \n",
      "12               0             0             0             1  \n",
      "13               0             0             0             0  \n",
      "14               0             0             1             0  \n",
      "15               0             0             0             1  \n",
      "16               0             0             0             1  \n",
      "17               0             0             0             0  \n",
      "18               0             0             0             0  \n",
      "19               0             0             0             1  \n",
      "20               0             0             1             0  \n",
      "21               0             0             1             0  \n",
      "22               0             0             1             0  \n",
      "23               0             0             1             0  \n",
      "24               0             0             0             1  \n",
      "25               0             0             1             0  \n",
      "26               0             0             0             1  \n",
      "27               0             0             0             1  \n",
      "28               0             0             0             1  \n",
      "29               0             0             0             0  \n",
      "...            ...           ...           ...           ...  \n",
      "6967             0             0             1             0  \n",
      "6968             0             0             1             0  \n",
      "6969             0             0             0             1  \n",
      "6970             0             0             0             1  \n",
      "6971             0             0             1             0  \n",
      "6972             0             0             1             0  \n",
      "6973             0             0             1             0  \n",
      "6974             0             0             1             0  \n",
      "6975             0             0             1             0  \n",
      "6976             0             0             1             0  \n",
      "6977             0             0             1             0  \n",
      "6978             0             0             1             0  \n",
      "6979             0             0             1             0  \n",
      "6980             0             0             1             0  \n",
      "6981             1             0             0             0  \n",
      "6982             0             0             1             0  \n",
      "6983             1             0             0             0  \n",
      "6984             0             0             1             0  \n",
      "6985             1             0             0             0  \n",
      "6986             1             0             0             0  \n",
      "6987             1             0             0             0  \n",
      "6988             1             0             0             0  \n",
      "6989             1             0             0             0  \n",
      "6990             1             0             0             0  \n",
      "6991             0             0             1             0  \n",
      "6992             0             0             1             0  \n",
      "6993             0             0             1             0  \n",
      "6994             1             0             0             0  \n",
      "6995             0             0             1             0  \n",
      "6996             0             0             1             0  \n",
      "\n",
      "[6997 rows x 22 columns]\n"
     ]
    }
   ],
   "source": [
    "bike_full1 = bike_full.join(bike_naa)\n",
    "print(bike_full1)"
   ]
  },
  {
   "cell_type": "code",
   "execution_count": 26,
   "metadata": {},
   "outputs": [
    {
     "name": "stdout",
     "output_type": "stream",
     "text": [
      "         ID  Marital Status  Gender  Yearly Income  Children  Occupation  \\\n",
      "0     22711               1       1          30000         0           0   \n",
      "1     13555               0       0          40000         0           0   \n",
      "2     28907               0       1         160000         5           3   \n",
      "3         2               1       1         160000         0           1   \n",
      "4     25410               1       0          70000         2           4   \n",
      "5         4               0       0         120000         2           1   \n",
      "6     15756               1       0          70000         0           3   \n",
      "7     11085               1       0          60000         0           3   \n",
      "8     17974               0       0          30000         1           0   \n",
      "9     21008               1       0          20000         1           2   \n",
      "10    28985               1       1          50000         0           1   \n",
      "11    11087               0       0          70000         2           3   \n",
      "12    20434               1       1          60000         0           4   \n",
      "13    14902               0       0          40000         0           0   \n",
      "14    11091               0       1          90000         0           3   \n",
      "15    11094               1       1          70000         0           4   \n",
      "16    18568               1       0          50000         2           4   \n",
      "17    16366               0       0          40000         0           0   \n",
      "18    20768               1       1          40000         0           0   \n",
      "19    11098               1       0          60000         0           4   \n",
      "20    18269               1       0          60000         2           3   \n",
      "21    11102               1       0          80000         5           3   \n",
      "22    11113               0       1          70000         4           3   \n",
      "23    26529               1       0          70000         0           3   \n",
      "24    11114               1       0          70000         4           4   \n",
      "25    23612               1       0          90000         0           3   \n",
      "26    11115               0       1          70000         4           4   \n",
      "27    11116               0       1          70000         4           4   \n",
      "28    11118               1       1          80000         0           4   \n",
      "29    19441               1       1          40000         0           0   \n",
      "...     ...             ...     ...            ...       ...         ...   \n",
      "6967  22779               0       1          60000         1           3   \n",
      "6968  22781               0       1          70000         2           3   \n",
      "6969  22783               0       1          70000         1           4   \n",
      "6970  22786               0       1          70000         1           4   \n",
      "6971  22792               0       1          70000         3           3   \n",
      "6972  22793               1       1          70000         3           3   \n",
      "6973  22794               0       0         130000         4           3   \n",
      "6974  22795               0       0         110000         4           3   \n",
      "6975  22796               0       1         110000         4           3   \n",
      "6976  22798               0       0         150000         3           3   \n",
      "6977  22799               0       0         120000         4           3   \n",
      "6978  22801               0       0         110000         4           3   \n",
      "6979  22802               1       0         120000         4           3   \n",
      "6980  22804               0       0          80000         1           3   \n",
      "6981  22805               0       0          80000         0           1   \n",
      "6982  22806               0       0          90000         0           3   \n",
      "6983  22807               0       0         130000         4           1   \n",
      "6984  22809               0       1          80000         0           3   \n",
      "6985  22811               0       1         110000         4           1   \n",
      "6986  22812               0       0         120000         4           1   \n",
      "6987  22813               0       1         130000         4           1   \n",
      "6988  22814               0       1         100000         3           1   \n",
      "6989  22815               0       0         100000         4           1   \n",
      "6990  22818               0       0         150000         4           1   \n",
      "6991  22819               0       0          80000         2           3   \n",
      "6992  22820               0       1         100000         4           3   \n",
      "6993  22821               0       0         130000         4           3   \n",
      "6994  22823               0       0         160000         5           1   \n",
      "6995  22825               1       0         120000         5           3   \n",
      "6996  22826               0       1         130000         5           3   \n",
      "\n",
      "      Home Owner  Cars  Commute Distance  Region    ...     Education_3  \\\n",
      "0              0     1               1.0       0    ...               1   \n",
      "1              1     0               1.0       0    ...               0   \n",
      "2              0     3               2.0       0    ...               1   \n",
      "3              1     2               5.0       2    ...               0   \n",
      "4              0     1               1.0       1    ...               0   \n",
      "5              1     3               1.0       1    ...               0   \n",
      "6              1     2               1.0       2    ...               0   \n",
      "7              0     2               1.0       1    ...               0   \n",
      "8              1     0              10.0       0    ...               0   \n",
      "9              0     0               1.0       0    ...               1   \n",
      "10             0     2               2.0       1    ...               0   \n",
      "11             0     0              11.0       1    ...               1   \n",
      "12             0     2               1.0       1    ...               1   \n",
      "13             1     1               1.0       1    ...               1   \n",
      "14             1     1               1.0       1    ...               1   \n",
      "15             0     1               1.0       2    ...               1   \n",
      "16             1     1               2.0       1    ...               0   \n",
      "17             1     1               1.0       1    ...               1   \n",
      "18             1     1               2.0       1    ...               1   \n",
      "19             0     1               6.0       2    ...               1   \n",
      "20             1     2               1.0       2    ...               0   \n",
      "21             1     4              12.0       2    ...               0   \n",
      "22             1     2               1.0       2    ...               0   \n",
      "23             1     0               8.0       1    ...               0   \n",
      "24             1     2               1.0       2    ...               1   \n",
      "25             0     2               1.0       0    ...               1   \n",
      "26             1     2               1.0       2    ...               1   \n",
      "27             1     2               9.0       2    ...               1   \n",
      "28             0     1               5.0       2    ...               1   \n",
      "29             1     0               1.0       0    ...               0   \n",
      "...          ...   ...               ...     ...    ...             ...   \n",
      "6967           1     2               2.0       1    ...               1   \n",
      "6968           1     1               1.0       1    ...               1   \n",
      "6969           1     2               1.0       1    ...               0   \n",
      "6970           1     3               2.0       1    ...               0   \n",
      "6971           1     1               7.0       1    ...               1   \n",
      "6972           1     1               8.0       1    ...               1   \n",
      "6973           1     1               9.0       0    ...               1   \n",
      "6974           1     3               2.0       0    ...               1   \n",
      "6975           0     3               3.0       0    ...               1   \n",
      "6976           1     4               5.0       0    ...               0   \n",
      "6977           0     4               6.0       0    ...               0   \n",
      "6978           1     4               7.0       0    ...               1   \n",
      "6979           1     4               1.0       0    ...               0   \n",
      "6980           1     2               2.0       0    ...               1   \n",
      "6981           1     2               1.0       0    ...               0   \n",
      "6982           1     2               1.0       0    ...               1   \n",
      "6983           1     4               2.0       0    ...               0   \n",
      "6984           1     2               7.0       0    ...               1   \n",
      "6985           1     4               8.0       0    ...               0   \n",
      "6986           1     4               9.0       0    ...               0   \n",
      "6987           1     4               2.0       0    ...               0   \n",
      "6988           1     4               3.0       0    ...               0   \n",
      "6989           1     1               5.0       0    ...               0   \n",
      "6990           1     4               6.0       0    ...               0   \n",
      "6991           1     2               7.0       0    ...               1   \n",
      "6992           1     3               1.0       0    ...               0   \n",
      "6993           1     4               2.0       0    ...               1   \n",
      "6994           1     2               1.0       0    ...               0   \n",
      "6995           1     3               1.0       0    ...               1   \n",
      "6996           1     3               2.0       0    ...               0   \n",
      "\n",
      "      Education_4  Occupation_0  Occupation_1  Occupation_2  Occupation_3  \\\n",
      "0               0             1             0             0             0   \n",
      "1               0             1             0             0             0   \n",
      "2               0             0             0             0             1   \n",
      "3               0             0             1             0             0   \n",
      "4               0             0             0             0             0   \n",
      "5               0             0             1             0             0   \n",
      "6               0             0             0             0             1   \n",
      "7               0             0             0             0             1   \n",
      "8               0             1             0             0             0   \n",
      "9               0             0             0             1             0   \n",
      "10              0             0             1             0             0   \n",
      "11              0             0             0             0             1   \n",
      "12              0             0             0             0             0   \n",
      "13              0             1             0             0             0   \n",
      "14              0             0             0             0             1   \n",
      "15              0             0             0             0             0   \n",
      "16              0             0             0             0             0   \n",
      "17              0             1             0             0             0   \n",
      "18              0             1             0             0             0   \n",
      "19              0             0             0             0             0   \n",
      "20              0             0             0             0             1   \n",
      "21              0             0             0             0             1   \n",
      "22              0             0             0             0             1   \n",
      "23              0             0             0             0             1   \n",
      "24              0             0             0             0             0   \n",
      "25              0             0             0             0             1   \n",
      "26              0             0             0             0             0   \n",
      "27              0             0             0             0             0   \n",
      "28              0             0             0             0             0   \n",
      "29              0             1             0             0             0   \n",
      "...           ...           ...           ...           ...           ...   \n",
      "6967            0             0             0             0             1   \n",
      "6968            0             0             0             0             1   \n",
      "6969            1             0             0             0             0   \n",
      "6970            1             0             0             0             0   \n",
      "6971            0             0             0             0             1   \n",
      "6972            0             0             0             0             1   \n",
      "6973            0             0             0             0             1   \n",
      "6974            0             0             0             0             1   \n",
      "6975            0             0             0             0             1   \n",
      "6976            0             0             0             0             1   \n",
      "6977            1             0             0             0             1   \n",
      "6978            0             0             0             0             1   \n",
      "6979            1             0             0             0             1   \n",
      "6980            0             0             0             0             1   \n",
      "6981            0             0             1             0             0   \n",
      "6982            0             0             0             0             1   \n",
      "6983            0             0             1             0             0   \n",
      "6984            0             0             0             0             1   \n",
      "6985            0             0             1             0             0   \n",
      "6986            0             0             1             0             0   \n",
      "6987            0             0             1             0             0   \n",
      "6988            0             0             1             0             0   \n",
      "6989            0             0             1             0             0   \n",
      "6990            0             0             1             0             0   \n",
      "6991            0             0             0             0             1   \n",
      "6992            0             0             0             0             1   \n",
      "6993            0             0             0             0             1   \n",
      "6994            0             0             1             0             0   \n",
      "6995            0             0             0             0             1   \n",
      "6996            0             0             0             0             1   \n",
      "\n",
      "      Occupation_4  Region_0  Region_1  Region_2  \n",
      "0                0         1         0         0  \n",
      "1                0         1         0         0  \n",
      "2                0         1         0         0  \n",
      "3                0         0         0         1  \n",
      "4                1         0         1         0  \n",
      "5                0         0         1         0  \n",
      "6                0         0         0         1  \n",
      "7                0         0         1         0  \n",
      "8                0         1         0         0  \n",
      "9                0         1         0         0  \n",
      "10               0         0         1         0  \n",
      "11               0         0         1         0  \n",
      "12               1         0         1         0  \n",
      "13               0         0         1         0  \n",
      "14               0         0         1         0  \n",
      "15               1         0         0         1  \n",
      "16               1         0         1         0  \n",
      "17               0         0         1         0  \n",
      "18               0         0         1         0  \n",
      "19               1         0         0         1  \n",
      "20               0         0         0         1  \n",
      "21               0         0         0         1  \n",
      "22               0         0         0         1  \n",
      "23               0         0         1         0  \n",
      "24               1         0         0         1  \n",
      "25               0         1         0         0  \n",
      "26               1         0         0         1  \n",
      "27               1         0         0         1  \n",
      "28               1         0         0         1  \n",
      "29               0         1         0         0  \n",
      "...            ...       ...       ...       ...  \n",
      "6967             0         0         1         0  \n",
      "6968             0         0         1         0  \n",
      "6969             1         0         1         0  \n",
      "6970             1         0         1         0  \n",
      "6971             0         0         1         0  \n",
      "6972             0         0         1         0  \n",
      "6973             0         1         0         0  \n",
      "6974             0         1         0         0  \n",
      "6975             0         1         0         0  \n",
      "6976             0         1         0         0  \n",
      "6977             0         1         0         0  \n",
      "6978             0         1         0         0  \n",
      "6979             0         1         0         0  \n",
      "6980             0         1         0         0  \n",
      "6981             0         1         0         0  \n",
      "6982             0         1         0         0  \n",
      "6983             0         1         0         0  \n",
      "6984             0         1         0         0  \n",
      "6985             0         1         0         0  \n",
      "6986             0         1         0         0  \n",
      "6987             0         1         0         0  \n",
      "6988             0         1         0         0  \n",
      "6989             0         1         0         0  \n",
      "6990             0         1         0         0  \n",
      "6991             0         1         0         0  \n",
      "6992             0         1         0         0  \n",
      "6993             0         1         0         0  \n",
      "6994             0         1         0         0  \n",
      "6995             0         1         0         0  \n",
      "6996             0         1         0         0  \n",
      "\n",
      "[6997 rows x 25 columns]\n"
     ]
    }
   ],
   "source": [
    "bike_full2 = bike_full1.join(bike_naaa)\n",
    "print(bike_full2)"
   ]
  },
  {
   "cell_type": "code",
   "execution_count": 27,
   "metadata": {},
   "outputs": [
    {
     "data": {
      "text/plain": [
       "Index(['ID', 'Marital Status', 'Gender', 'Yearly Income', 'Children',\n",
       "       'Occupation', 'Home Owner', 'Cars', 'Commute Distance', 'Region', 'Age',\n",
       "       'Bike Buyer', 'Education_0', 'Education_1', 'Education_2',\n",
       "       'Education_3', 'Education_4', 'Occupation_0', 'Occupation_1',\n",
       "       'Occupation_2', 'Occupation_3', 'Occupation_4', 'Region_0', 'Region_1',\n",
       "       'Region_2'],\n",
       "      dtype='object')"
      ]
     },
     "execution_count": 27,
     "metadata": {},
     "output_type": "execute_result"
    }
   ],
   "source": [
    "bike_full2.columns"
   ]
  },
  {
   "cell_type": "code",
   "execution_count": 28,
   "metadata": {
    "collapsed": true
   },
   "outputs": [],
   "source": [
    "bike_full3 = bike_full2.drop('Occupation',axis=1)"
   ]
  },
  {
   "cell_type": "code",
   "execution_count": 29,
   "metadata": {},
   "outputs": [
    {
     "data": {
      "text/plain": [
       "Index(['ID', 'Marital Status', 'Gender', 'Yearly Income', 'Children',\n",
       "       'Home Owner', 'Cars', 'Commute Distance', 'Region', 'Age', 'Bike Buyer',\n",
       "       'Education_0', 'Education_1', 'Education_2', 'Education_3',\n",
       "       'Education_4', 'Occupation_0', 'Occupation_1', 'Occupation_2',\n",
       "       'Occupation_3', 'Occupation_4', 'Region_0', 'Region_1', 'Region_2'],\n",
       "      dtype='object')"
      ]
     },
     "execution_count": 29,
     "metadata": {},
     "output_type": "execute_result"
    }
   ],
   "source": [
    "bike_full3.columns"
   ]
  },
  {
   "cell_type": "code",
   "execution_count": 30,
   "metadata": {
    "collapsed": true
   },
   "outputs": [],
   "source": [
    "bike_full4=bike_full3.drop('Region',axis=1)"
   ]
  },
  {
   "cell_type": "code",
   "execution_count": 31,
   "metadata": {},
   "outputs": [
    {
     "data": {
      "text/plain": [
       "Index(['ID', 'Marital Status', 'Gender', 'Yearly Income', 'Children',\n",
       "       'Home Owner', 'Cars', 'Commute Distance', 'Age', 'Bike Buyer',\n",
       "       'Education_0', 'Education_1', 'Education_2', 'Education_3',\n",
       "       'Education_4', 'Occupation_0', 'Occupation_1', 'Occupation_2',\n",
       "       'Occupation_3', 'Occupation_4', 'Region_0', 'Region_1', 'Region_2'],\n",
       "      dtype='object')"
      ]
     },
     "execution_count": 31,
     "metadata": {},
     "output_type": "execute_result"
    }
   ],
   "source": [
    "bike_full4.columns"
   ]
  },
  {
   "cell_type": "code",
   "execution_count": 32,
   "metadata": {
    "collapsed": true
   },
   "outputs": [],
   "source": [
    "bike_full5=bike_full4.drop('ID',axis=1)"
   ]
  },
  {
   "cell_type": "code",
   "execution_count": 33,
   "metadata": {},
   "outputs": [
    {
     "data": {
      "text/plain": [
       "Index(['Marital Status', 'Gender', 'Yearly Income', 'Children', 'Home Owner',\n",
       "       'Cars', 'Commute Distance', 'Age', 'Bike Buyer', 'Education_0',\n",
       "       'Education_1', 'Education_2', 'Education_3', 'Education_4',\n",
       "       'Occupation_0', 'Occupation_1', 'Occupation_2', 'Occupation_3',\n",
       "       'Occupation_4', 'Region_0', 'Region_1', 'Region_2'],\n",
       "      dtype='object')"
      ]
     },
     "execution_count": 33,
     "metadata": {},
     "output_type": "execute_result"
    }
   ],
   "source": [
    "bike_full5.columns"
   ]
  },
  {
   "cell_type": "code",
   "execution_count": 34,
   "metadata": {},
   "outputs": [
    {
     "data": {
      "text/plain": [
       "(6997, 22)"
      ]
     },
     "execution_count": 34,
     "metadata": {},
     "output_type": "execute_result"
    }
   ],
   "source": [
    "bike_full5.shape"
   ]
  },
  {
   "cell_type": "code",
   "execution_count": 35,
   "metadata": {},
   "outputs": [
    {
     "name": "stdout",
     "output_type": "stream",
     "text": [
      "      Marital Status  Gender  Yearly Income  Children  Home Owner  Cars  \\\n",
      "0                  1       1          30000         0           0     1   \n",
      "1                  0       0          40000         0           1     0   \n",
      "2                  0       1         160000         5           0     3   \n",
      "3                  1       1         160000         0           1     2   \n",
      "4                  1       0          70000         2           0     1   \n",
      "5                  0       0         120000         2           1     3   \n",
      "6                  1       0          70000         0           1     2   \n",
      "7                  1       0          60000         0           0     2   \n",
      "8                  0       0          30000         1           1     0   \n",
      "9                  1       0          20000         1           0     0   \n",
      "10                 1       1          50000         0           0     2   \n",
      "11                 0       0          70000         2           0     0   \n",
      "12                 1       1          60000         0           0     2   \n",
      "13                 0       0          40000         0           1     1   \n",
      "14                 0       1          90000         0           1     1   \n",
      "15                 1       1          70000         0           0     1   \n",
      "16                 1       0          50000         2           1     1   \n",
      "17                 0       0          40000         0           1     1   \n",
      "18                 1       1          40000         0           1     1   \n",
      "19                 1       0          60000         0           0     1   \n",
      "20                 1       0          60000         2           1     2   \n",
      "21                 1       0          80000         5           1     4   \n",
      "22                 0       1          70000         4           1     2   \n",
      "23                 1       0          70000         0           1     0   \n",
      "24                 1       0          70000         4           1     2   \n",
      "25                 1       0          90000         0           0     2   \n",
      "26                 0       1          70000         4           1     2   \n",
      "27                 0       1          70000         4           1     2   \n",
      "28                 1       1          80000         0           0     1   \n",
      "29                 1       1          40000         0           1     0   \n",
      "...              ...     ...            ...       ...         ...   ...   \n",
      "6967               0       1          60000         1           1     2   \n",
      "6968               0       1          70000         2           1     1   \n",
      "6969               0       1          70000         1           1     2   \n",
      "6970               0       1          70000         1           1     3   \n",
      "6971               0       1          70000         3           1     1   \n",
      "6972               1       1          70000         3           1     1   \n",
      "6973               0       0         130000         4           1     1   \n",
      "6974               0       0         110000         4           1     3   \n",
      "6975               0       1         110000         4           0     3   \n",
      "6976               0       0         150000         3           1     4   \n",
      "6977               0       0         120000         4           0     4   \n",
      "6978               0       0         110000         4           1     4   \n",
      "6979               1       0         120000         4           1     4   \n",
      "6980               0       0          80000         1           1     2   \n",
      "6981               0       0          80000         0           1     2   \n",
      "6982               0       0          90000         0           1     2   \n",
      "6983               0       0         130000         4           1     4   \n",
      "6984               0       1          80000         0           1     2   \n",
      "6985               0       1         110000         4           1     4   \n",
      "6986               0       0         120000         4           1     4   \n",
      "6987               0       1         130000         4           1     4   \n",
      "6988               0       1         100000         3           1     4   \n",
      "6989               0       0         100000         4           1     1   \n",
      "6990               0       0         150000         4           1     4   \n",
      "6991               0       0          80000         2           1     2   \n",
      "6992               0       1         100000         4           1     3   \n",
      "6993               0       0         130000         4           1     4   \n",
      "6994               0       0         160000         5           1     2   \n",
      "6995               1       0         120000         5           1     3   \n",
      "6996               0       1         130000         5           1     3   \n",
      "\n",
      "      Commute Distance  Age  Education_0  Education_1    ...     Education_3  \\\n",
      "0                  1.0   33            0            0    ...               1   \n",
      "1                  1.0   37            0            1    ...               0   \n",
      "2                  2.0   55            0            0    ...               1   \n",
      "3                  5.0   47            0            1    ...               0   \n",
      "4                  1.0   38            1            0    ...               0   \n",
      "5                  1.0   40            1            0    ...               0   \n",
      "6                  1.0   49            0            0    ...               0   \n",
      "7                  1.0   49            0            0    ...               0   \n",
      "8                 10.0   38            1            0    ...               0   \n",
      "9                  1.0   46            0            0    ...               1   \n",
      "10                 2.0   64            1            0    ...               0   \n",
      "11                11.0   49            0            0    ...               1   \n",
      "12                 1.0   31            0            0    ...               1   \n",
      "13                 1.0   50            0            0    ...               1   \n",
      "14                 1.0   49            0            0    ...               1   \n",
      "15                 1.0   44            0            0    ...               1   \n",
      "16                 2.0   39            1            0    ...               0   \n",
      "17                 1.0   51            0            0    ...               1   \n",
      "18                 2.0   48            0            0    ...               1   \n",
      "19                 6.0   45            0            0    ...               1   \n",
      "20                 1.0   43            1            0    ...               0   \n",
      "21                12.0   41            1            0    ...               0   \n",
      "22                 1.0   44            1            0    ...               0   \n",
      "23                 8.0   37            0            1    ...               0   \n",
      "24                 1.0   44            0            0    ...               1   \n",
      "25                 1.0   62            0            0    ...               1   \n",
      "26                 1.0   44            0            0    ...               1   \n",
      "27                 9.0   44            0            0    ...               1   \n",
      "28                 5.0   49            0            0    ...               1   \n",
      "29                 1.0   37            0            1    ...               0   \n",
      "...                ...  ...          ...          ...    ...             ...   \n",
      "6967               2.0   54            0            0    ...               1   \n",
      "6968               1.0   55            0            0    ...               1   \n",
      "6969               1.0   54            0            0    ...               0   \n",
      "6970               2.0   54            0            0    ...               0   \n",
      "6971               7.0   53            0            0    ...               1   \n",
      "6972               8.0   53            0            0    ...               1   \n",
      "6973               9.0   48            0            0    ...               1   \n",
      "6974               2.0   49            0            0    ...               1   \n",
      "6975               3.0   49            0            0    ...               1   \n",
      "6976               5.0   49            0            0    ...               0   \n",
      "6977               6.0   50            0            0    ...               0   \n",
      "6978               7.0   51            0            0    ...               1   \n",
      "6979               1.0   51            0            0    ...               0   \n",
      "6980               2.0   51            0            0    ...               1   \n",
      "6981               1.0   62            1            0    ...               0   \n",
      "6982               1.0   62            0            0    ...               1   \n",
      "6983               2.0   62            1            0    ...               0   \n",
      "6984               7.0   61            0            0    ...               1   \n",
      "6985               8.0   61            1            0    ...               0   \n",
      "6986               9.0   61            1            0    ...               0   \n",
      "6987               2.0   61            1            0    ...               0   \n",
      "6988               3.0   60            1            0    ...               0   \n",
      "6989               5.0   60            1            0    ...               0   \n",
      "6990               6.0   60            0            1    ...               0   \n",
      "6991               7.0   53            0            0    ...               1   \n",
      "6992               1.0   52            0            0    ...               0   \n",
      "6993               2.0   52            0            0    ...               1   \n",
      "6994               1.0   53            1            0    ...               0   \n",
      "6995               1.0   54            0            0    ...               1   \n",
      "6996               2.0   54            0            0    ...               0   \n",
      "\n",
      "      Education_4  Occupation_0  Occupation_1  Occupation_2  Occupation_3  \\\n",
      "0               0             1             0             0             0   \n",
      "1               0             1             0             0             0   \n",
      "2               0             0             0             0             1   \n",
      "3               0             0             1             0             0   \n",
      "4               0             0             0             0             0   \n",
      "5               0             0             1             0             0   \n",
      "6               0             0             0             0             1   \n",
      "7               0             0             0             0             1   \n",
      "8               0             1             0             0             0   \n",
      "9               0             0             0             1             0   \n",
      "10              0             0             1             0             0   \n",
      "11              0             0             0             0             1   \n",
      "12              0             0             0             0             0   \n",
      "13              0             1             0             0             0   \n",
      "14              0             0             0             0             1   \n",
      "15              0             0             0             0             0   \n",
      "16              0             0             0             0             0   \n",
      "17              0             1             0             0             0   \n",
      "18              0             1             0             0             0   \n",
      "19              0             0             0             0             0   \n",
      "20              0             0             0             0             1   \n",
      "21              0             0             0             0             1   \n",
      "22              0             0             0             0             1   \n",
      "23              0             0             0             0             1   \n",
      "24              0             0             0             0             0   \n",
      "25              0             0             0             0             1   \n",
      "26              0             0             0             0             0   \n",
      "27              0             0             0             0             0   \n",
      "28              0             0             0             0             0   \n",
      "29              0             1             0             0             0   \n",
      "...           ...           ...           ...           ...           ...   \n",
      "6967            0             0             0             0             1   \n",
      "6968            0             0             0             0             1   \n",
      "6969            1             0             0             0             0   \n",
      "6970            1             0             0             0             0   \n",
      "6971            0             0             0             0             1   \n",
      "6972            0             0             0             0             1   \n",
      "6973            0             0             0             0             1   \n",
      "6974            0             0             0             0             1   \n",
      "6975            0             0             0             0             1   \n",
      "6976            0             0             0             0             1   \n",
      "6977            1             0             0             0             1   \n",
      "6978            0             0             0             0             1   \n",
      "6979            1             0             0             0             1   \n",
      "6980            0             0             0             0             1   \n",
      "6981            0             0             1             0             0   \n",
      "6982            0             0             0             0             1   \n",
      "6983            0             0             1             0             0   \n",
      "6984            0             0             0             0             1   \n",
      "6985            0             0             1             0             0   \n",
      "6986            0             0             1             0             0   \n",
      "6987            0             0             1             0             0   \n",
      "6988            0             0             1             0             0   \n",
      "6989            0             0             1             0             0   \n",
      "6990            0             0             1             0             0   \n",
      "6991            0             0             0             0             1   \n",
      "6992            0             0             0             0             1   \n",
      "6993            0             0             0             0             1   \n",
      "6994            0             0             1             0             0   \n",
      "6995            0             0             0             0             1   \n",
      "6996            0             0             0             0             1   \n",
      "\n",
      "      Occupation_4  Region_0  Region_1  Region_2  \n",
      "0                0         1         0         0  \n",
      "1                0         1         0         0  \n",
      "2                0         1         0         0  \n",
      "3                0         0         0         1  \n",
      "4                1         0         1         0  \n",
      "5                0         0         1         0  \n",
      "6                0         0         0         1  \n",
      "7                0         0         1         0  \n",
      "8                0         1         0         0  \n",
      "9                0         1         0         0  \n",
      "10               0         0         1         0  \n",
      "11               0         0         1         0  \n",
      "12               1         0         1         0  \n",
      "13               0         0         1         0  \n",
      "14               0         0         1         0  \n",
      "15               1         0         0         1  \n",
      "16               1         0         1         0  \n",
      "17               0         0         1         0  \n",
      "18               0         0         1         0  \n",
      "19               1         0         0         1  \n",
      "20               0         0         0         1  \n",
      "21               0         0         0         1  \n",
      "22               0         0         0         1  \n",
      "23               0         0         1         0  \n",
      "24               1         0         0         1  \n",
      "25               0         1         0         0  \n",
      "26               1         0         0         1  \n",
      "27               1         0         0         1  \n",
      "28               1         0         0         1  \n",
      "29               0         1         0         0  \n",
      "...            ...       ...       ...       ...  \n",
      "6967             0         0         1         0  \n",
      "6968             0         0         1         0  \n",
      "6969             1         0         1         0  \n",
      "6970             1         0         1         0  \n",
      "6971             0         0         1         0  \n",
      "6972             0         0         1         0  \n",
      "6973             0         1         0         0  \n",
      "6974             0         1         0         0  \n",
      "6975             0         1         0         0  \n",
      "6976             0         1         0         0  \n",
      "6977             0         1         0         0  \n",
      "6978             0         1         0         0  \n",
      "6979             0         1         0         0  \n",
      "6980             0         1         0         0  \n",
      "6981             0         1         0         0  \n",
      "6982             0         1         0         0  \n",
      "6983             0         1         0         0  \n",
      "6984             0         1         0         0  \n",
      "6985             0         1         0         0  \n",
      "6986             0         1         0         0  \n",
      "6987             0         1         0         0  \n",
      "6988             0         1         0         0  \n",
      "6989             0         1         0         0  \n",
      "6990             0         1         0         0  \n",
      "6991             0         1         0         0  \n",
      "6992             0         1         0         0  \n",
      "6993             0         1         0         0  \n",
      "6994             0         1         0         0  \n",
      "6995             0         1         0         0  \n",
      "6996             0         1         0         0  \n",
      "\n",
      "[6997 rows x 21 columns]\n"
     ]
    }
   ],
   "source": [
    "x=bike_full5.drop(['Bike Buyer'], axis=1) \n",
    "print(x)"
   ]
  },
  {
   "cell_type": "code",
   "execution_count": 36,
   "metadata": {},
   "outputs": [
    {
     "data": {
      "text/plain": [
       "(6997, 21)"
      ]
     },
     "execution_count": 36,
     "metadata": {},
     "output_type": "execute_result"
    }
   ],
   "source": [
    "x.shape"
   ]
  },
  {
   "cell_type": "code",
   "execution_count": 37,
   "metadata": {},
   "outputs": [
    {
     "name": "stdout",
     "output_type": "stream",
     "text": [
      "      Bike Buyer\n",
      "0              1\n",
      "1              1\n",
      "2              0\n",
      "3              0\n",
      "4              1\n",
      "5              0\n",
      "6              1\n",
      "7              0\n",
      "8              1\n",
      "9              1\n",
      "10             0\n",
      "11             0\n",
      "12             1\n",
      "13             1\n",
      "14             0\n",
      "15             0\n",
      "16             1\n",
      "17             1\n",
      "18             1\n",
      "19             0\n",
      "20             1\n",
      "21             0\n",
      "22             0\n",
      "23             1\n",
      "24             0\n",
      "25             1\n",
      "26             0\n",
      "27             0\n",
      "28             0\n",
      "29             1\n",
      "...          ...\n",
      "6967           0\n",
      "6968           0\n",
      "6969           0\n",
      "6970           0\n",
      "6971           0\n",
      "6972           0\n",
      "6973           0\n",
      "6974           0\n",
      "6975           0\n",
      "6976           0\n",
      "6977           0\n",
      "6978           0\n",
      "6979           0\n",
      "6980           0\n",
      "6981           0\n",
      "6982           0\n",
      "6983           0\n",
      "6984           0\n",
      "6985           0\n",
      "6986           0\n",
      "6987           0\n",
      "6988           0\n",
      "6989           0\n",
      "6990           0\n",
      "6991           0\n",
      "6992           0\n",
      "6993           0\n",
      "6994           0\n",
      "6995           0\n",
      "6996           0\n",
      "\n",
      "[6997 rows x 1 columns]\n"
     ]
    }
   ],
   "source": [
    "y=bike_full5.loc[:,['Bike Buyer']]\n",
    "print(y)"
   ]
  },
  {
   "cell_type": "code",
   "execution_count": 38,
   "metadata": {},
   "outputs": [
    {
     "name": "stderr",
     "output_type": "stream",
     "text": [
      "C:\\Users\\DELL\\Anaconda3\\lib\\site-packages\\sklearn\\cross_validation.py:41: DeprecationWarning: This module was deprecated in version 0.18 in favor of the model_selection module into which all the refactored classes and functions are moved. Also note that the interface of the new CV iterators are different from that of this module. This module will be removed in 0.20.\n",
      "  \"This module will be removed in 0.20.\", DeprecationWarning)\n"
     ]
    }
   ],
   "source": [
    "from sklearn.cross_validation import train_test_split\n",
    "x_train, x_test, y_train ,y_test =train_test_split(x,y, test_size=0.35, random_state=128)"
   ]
  },
  {
   "cell_type": "code",
   "execution_count": 39,
   "metadata": {},
   "outputs": [
    {
     "name": "stderr",
     "output_type": "stream",
     "text": [
      "C:\\Users\\DELL\\Anaconda3\\lib\\site-packages\\ipykernel_launcher.py:3: DataConversionWarning: A column-vector y was passed when a 1d array was expected. Please change the shape of y to (n_samples,), for example using ravel().\n",
      "  This is separate from the ipykernel package so we can avoid doing imports until\n"
     ]
    },
    {
     "data": {
      "text/plain": [
       "RandomForestClassifier(bootstrap=True, class_weight=None, criterion='entropy',\n",
       "            max_depth=None, max_features='auto', max_leaf_nodes=None,\n",
       "            min_impurity_decrease=0.0, min_impurity_split=None,\n",
       "            min_samples_leaf=1, min_samples_split=2,\n",
       "            min_weight_fraction_leaf=0.0, n_estimators=10, n_jobs=1,\n",
       "            oob_score=False, random_state=128, verbose=0, warm_start=False)"
      ]
     },
     "execution_count": 39,
     "metadata": {},
     "output_type": "execute_result"
    }
   ],
   "source": [
    "from sklearn.ensemble import RandomForestClassifier\n",
    "classifier=RandomForestClassifier(n_estimators = 10,criterion = 'entropy',random_state = 128)\n",
    "classifier.fit(x_train,y_train)"
   ]
  },
  {
   "cell_type": "code",
   "execution_count": 40,
   "metadata": {
    "collapsed": true
   },
   "outputs": [],
   "source": [
    "y_pred_test = classifier.predict(x_test)"
   ]
  },
  {
   "cell_type": "code",
   "execution_count": 41,
   "metadata": {},
   "outputs": [
    {
     "data": {
      "text/plain": [
       "array([0, 0, 0, ..., 0, 0, 0], dtype=int64)"
      ]
     },
     "execution_count": 41,
     "metadata": {},
     "output_type": "execute_result"
    }
   ],
   "source": [
    "y_pred_test"
   ]
  },
  {
   "cell_type": "code",
   "execution_count": 42,
   "metadata": {},
   "outputs": [
    {
     "name": "stdout",
     "output_type": "stream",
     "text": [
      "[0 0 0 ..., 0 0 0]\n"
     ]
    }
   ],
   "source": [
    "lr_p_train = classifier.predict(x_train)\n",
    "print(lr_p_train)"
   ]
  },
  {
   "cell_type": "code",
   "execution_count": 43,
   "metadata": {},
   "outputs": [
    {
     "data": {
      "text/plain": [
       "array([[1999,   80],\n",
       "       [ 291,   79]], dtype=int64)"
      ]
     },
     "execution_count": 43,
     "metadata": {},
     "output_type": "execute_result"
    }
   ],
   "source": [
    "from sklearn.metrics import confusion_matrix\n",
    "cm = confusion_matrix(y_test,y_pred_test)\n",
    "cm"
   ]
  },
  {
   "cell_type": "code",
   "execution_count": 44,
   "metadata": {},
   "outputs": [
    {
     "data": {
      "text/plain": [
       "0.97097625329815307"
      ]
     },
     "execution_count": 44,
     "metadata": {},
     "output_type": "execute_result"
    }
   ],
   "source": [
    "from sklearn.metrics import accuracy_score\n",
    "accuracy_score(y_train,lr_p_train)"
   ]
  },
  {
   "cell_type": "code",
   "execution_count": 45,
   "metadata": {},
   "outputs": [
    {
     "data": {
      "text/plain": [
       "0.84850959575336871"
      ]
     },
     "execution_count": 45,
     "metadata": {},
     "output_type": "execute_result"
    }
   ],
   "source": [
    "from sklearn.metrics import accuracy_score\n",
    "accuracy_score(y_test,y_pred_test)"
   ]
  },
  {
   "cell_type": "code",
   "execution_count": null,
   "metadata": {
    "collapsed": true
   },
   "outputs": [],
   "source": []
  },
  {
   "cell_type": "code",
   "execution_count": null,
   "metadata": {
    "collapsed": true
   },
   "outputs": [],
   "source": []
  },
  {
   "cell_type": "code",
   "execution_count": null,
   "metadata": {
    "collapsed": true
   },
   "outputs": [],
   "source": []
  },
  {
   "cell_type": "code",
   "execution_count": null,
   "metadata": {
    "collapsed": true
   },
   "outputs": [],
   "source": []
  },
  {
   "cell_type": "code",
   "execution_count": null,
   "metadata": {
    "collapsed": true
   },
   "outputs": [],
   "source": []
  },
  {
   "cell_type": "code",
   "execution_count": null,
   "metadata": {
    "collapsed": true
   },
   "outputs": [],
   "source": []
  },
  {
   "cell_type": "code",
   "execution_count": null,
   "metadata": {
    "collapsed": true
   },
   "outputs": [],
   "source": []
  },
  {
   "cell_type": "code",
   "execution_count": null,
   "metadata": {
    "collapsed": true
   },
   "outputs": [],
   "source": []
  },
  {
   "cell_type": "code",
   "execution_count": null,
   "metadata": {
    "collapsed": true
   },
   "outputs": [],
   "source": []
  },
  {
   "cell_type": "code",
   "execution_count": null,
   "metadata": {
    "collapsed": true
   },
   "outputs": [],
   "source": []
  },
  {
   "cell_type": "code",
   "execution_count": null,
   "metadata": {
    "collapsed": true
   },
   "outputs": [],
   "source": []
  },
  {
   "cell_type": "code",
   "execution_count": null,
   "metadata": {
    "collapsed": true
   },
   "outputs": [],
   "source": []
  },
  {
   "cell_type": "code",
   "execution_count": null,
   "metadata": {
    "collapsed": true
   },
   "outputs": [],
   "source": []
  },
  {
   "cell_type": "code",
   "execution_count": null,
   "metadata": {
    "collapsed": true
   },
   "outputs": [],
   "source": []
  },
  {
   "cell_type": "code",
   "execution_count": null,
   "metadata": {
    "collapsed": true
   },
   "outputs": [],
   "source": []
  },
  {
   "cell_type": "code",
   "execution_count": null,
   "metadata": {
    "collapsed": true
   },
   "outputs": [],
   "source": []
  },
  {
   "cell_type": "code",
   "execution_count": null,
   "metadata": {
    "collapsed": true
   },
   "outputs": [],
   "source": []
  },
  {
   "cell_type": "code",
   "execution_count": null,
   "metadata": {
    "collapsed": true
   },
   "outputs": [],
   "source": []
  },
  {
   "cell_type": "code",
   "execution_count": null,
   "metadata": {
    "collapsed": true
   },
   "outputs": [],
   "source": []
  },
  {
   "cell_type": "code",
   "execution_count": null,
   "metadata": {
    "collapsed": true
   },
   "outputs": [],
   "source": []
  },
  {
   "cell_type": "code",
   "execution_count": null,
   "metadata": {
    "collapsed": true
   },
   "outputs": [],
   "source": []
  },
  {
   "cell_type": "code",
   "execution_count": null,
   "metadata": {
    "collapsed": true
   },
   "outputs": [],
   "source": []
  },
  {
   "cell_type": "code",
   "execution_count": null,
   "metadata": {
    "collapsed": true
   },
   "outputs": [],
   "source": []
  },
  {
   "cell_type": "code",
   "execution_count": null,
   "metadata": {
    "collapsed": true
   },
   "outputs": [],
   "source": []
  },
  {
   "cell_type": "code",
   "execution_count": null,
   "metadata": {
    "collapsed": true
   },
   "outputs": [],
   "source": []
  },
  {
   "cell_type": "code",
   "execution_count": null,
   "metadata": {
    "collapsed": true
   },
   "outputs": [],
   "source": []
  },
  {
   "cell_type": "code",
   "execution_count": null,
   "metadata": {
    "collapsed": true
   },
   "outputs": [],
   "source": []
  },
  {
   "cell_type": "code",
   "execution_count": null,
   "metadata": {
    "collapsed": true
   },
   "outputs": [],
   "source": []
  },
  {
   "cell_type": "code",
   "execution_count": null,
   "metadata": {
    "collapsed": true
   },
   "outputs": [],
   "source": []
  },
  {
   "cell_type": "code",
   "execution_count": null,
   "metadata": {
    "collapsed": true
   },
   "outputs": [],
   "source": []
  },
  {
   "cell_type": "code",
   "execution_count": null,
   "metadata": {
    "collapsed": true
   },
   "outputs": [],
   "source": []
  },
  {
   "cell_type": "code",
   "execution_count": null,
   "metadata": {
    "collapsed": true
   },
   "outputs": [],
   "source": []
  },
  {
   "cell_type": "code",
   "execution_count": null,
   "metadata": {
    "collapsed": true
   },
   "outputs": [],
   "source": []
  },
  {
   "cell_type": "code",
   "execution_count": null,
   "metadata": {
    "collapsed": true
   },
   "outputs": [],
   "source": []
  },
  {
   "cell_type": "code",
   "execution_count": null,
   "metadata": {
    "collapsed": true
   },
   "outputs": [],
   "source": []
  },
  {
   "cell_type": "code",
   "execution_count": null,
   "metadata": {
    "collapsed": true
   },
   "outputs": [],
   "source": []
  },
  {
   "cell_type": "code",
   "execution_count": null,
   "metadata": {
    "collapsed": true
   },
   "outputs": [],
   "source": []
  },
  {
   "cell_type": "code",
   "execution_count": null,
   "metadata": {
    "collapsed": true
   },
   "outputs": [],
   "source": []
  }
 ],
 "metadata": {
  "kernelspec": {
   "display_name": "Python 3",
   "language": "python",
   "name": "python3"
  },
  "language_info": {
   "codemirror_mode": {
    "name": "ipython",
    "version": 3
   },
   "file_extension": ".py",
   "mimetype": "text/x-python",
   "name": "python",
   "nbconvert_exporter": "python",
   "pygments_lexer": "ipython3",
   "version": "3.7.4"
  }
 },
 "nbformat": 4,
 "nbformat_minor": 2
}
